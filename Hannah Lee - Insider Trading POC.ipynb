{
 "cells": [
  {
   "cell_type": "markdown",
   "metadata": {},
   "source": [
    "# Insider Trading Proof of Concept\n",
    "\n",
    "Hannah Lee\n",
    "\n",
    "### **Goals:** \n",
    "- Identify potential trading on insider information for Shopify Inc: TSX (SHOP.TO)\n",
    "- Investigate suspicious traders against related names of Shopify using means like social media \n",
    "\n",
    "\n",
    "### **Summary:** \n",
    "My goal for this proof of concept was to perform a **security based investigation** for trading occuring on insider information. For this demo I investigated potential insider trading for Shopify (SHOP.TO). \n",
    "\n",
    "#### PHASE 1\n",
    "The first step was to create a score that identified dates where SHOP.TO's performance was highly volatile. I am assuming that dates with higher than usual volatility is a result of positive or negative news. The date I found with the highest risk score for SHOP.TO was February 12, 2018.\n",
    "\n",
    "After identifying the highest risk date, I then cross checked to see if there was a news release that could influence the SHOP.TO's share price. I found that on February 12, 2018, Shopify announced that they were chosen to run Ontario's online cannibus store. This confirmed that there was a relevant news release that caused the price volatility in the share. \n",
    "\n",
    "I then pulled trading data of accounts who bought shares of SHOP.TO within 1 month of the investigated date and who sold their SHOP.TO shares on February 12 for a large total.\n",
    "\n",
    "Once I identified the traders who met this criteria, I investigated their trading activity for abnormal behavior. This included trading in a stock sector they didn't normally trade in, higher than usual trading activity of the stock in question,  higher than usual purchase quantity of the stock in question, trading on a dormant account, and consecutive trades of the stock in question.\n",
    "\n",
    "\n",
    "#### PHASE 2\n",
    "Once I identified traders with abnormal trading pattern, I then looked into the related names of Shopify by examining names registered on SEDI. After identifying the SEDI names, I then looked for any obvious connection to the investigated traders, such as same name or same last name. I then investigated the SEDI social media accounts against the traders social media accounts to look a relationship . \n",
    "\n",
    "#### PHASE 3 (Bonus)\n",
    "In this Phase, I touch on other methods of identifying potential insider traders that could be used outside of the scope asked.\n"
   ]
  },
  {
   "cell_type": "markdown",
   "metadata": {},
   "source": [
    "____________________"
   ]
  },
  {
   "cell_type": "markdown",
   "metadata": {},
   "source": [
    "# PHASE 1\n",
    "\n",
    "Identify potential trading on insider information for Shopify Inc: TSX (SHOP.TO)\n"
   ]
  },
  {
   "cell_type": "code",
   "execution_count": 1,
   "metadata": {},
   "outputs": [],
   "source": [
    "#Libraries\n",
    "\n",
    "import numpy as np\n",
    "import pandas as pd\n",
    "import os as os\n",
    "\n",
    "import matplotlib.pyplot as plt; plt.rcdefaults()\n",
    "import matplotlib.pyplot as plt"
   ]
  },
  {
   "cell_type": "markdown",
   "metadata": {},
   "source": [
    "## PART 1: Identify high risk dates\n",
    "\n",
    " **Logic:**\n",
    "1. Identify % PnL change per day\n",
    "2. Flag whether the change between days is positive or negative\n",
    "3. Flag when the pattern of change between days (pos/neg) remains the same\n",
    "4. Take the cumulative sum of the percentage change when the pattern of change between days remains the same\n",
    "5. If the percentage change is >0.06 then flag to investigate\n",
    "    \n",
    "    *[note: 0.06 was chosen as a parameter to identify high percentage change. This parameter can be adjusted]*\n",
    "\n",
    "6. Create a risk score that scores high volatility in the market\n",
    "7. Identify the dates with the highest risk score\n",
    "8. Investigate clients who sold on high risk dates and bought shares within one month before \n",
    "\n",
    "________________\n",
    "\n",
    "\n",
    "### One year of Shopify Inc. (TSX) data pulled from Yahoo Finance\n"
   ]
  },
  {
   "cell_type": "code",
   "execution_count": 2,
   "metadata": {
    "scrolled": true
   },
   "outputs": [
    {
     "data": {
      "text/html": [
       "<div>\n",
       "<style scoped>\n",
       "    .dataframe tbody tr th:only-of-type {\n",
       "        vertical-align: middle;\n",
       "    }\n",
       "\n",
       "    .dataframe tbody tr th {\n",
       "        vertical-align: top;\n",
       "    }\n",
       "\n",
       "    .dataframe thead th {\n",
       "        text-align: right;\n",
       "    }\n",
       "</style>\n",
       "<table border=\"1\" class=\"dataframe\">\n",
       "  <thead>\n",
       "    <tr style=\"text-align: right;\">\n",
       "      <th></th>\n",
       "      <th>Date</th>\n",
       "      <th>Open</th>\n",
       "      <th>High</th>\n",
       "      <th>Low</th>\n",
       "      <th>Close</th>\n",
       "      <th>Adj Close</th>\n",
       "      <th>Volume</th>\n",
       "    </tr>\n",
       "  </thead>\n",
       "  <tbody>\n",
       "    <tr>\n",
       "      <th>0</th>\n",
       "      <td>2017-02-28</td>\n",
       "      <td>78.489998</td>\n",
       "      <td>80.660004</td>\n",
       "      <td>78.470001</td>\n",
       "      <td>78.870003</td>\n",
       "      <td>78.870003</td>\n",
       "      <td>214200</td>\n",
       "    </tr>\n",
       "    <tr>\n",
       "      <th>1</th>\n",
       "      <td>2017-03-01</td>\n",
       "      <td>79.989998</td>\n",
       "      <td>80.120003</td>\n",
       "      <td>78.800003</td>\n",
       "      <td>79.550003</td>\n",
       "      <td>79.550003</td>\n",
       "      <td>174700</td>\n",
       "    </tr>\n",
       "    <tr>\n",
       "      <th>2</th>\n",
       "      <td>2017-03-02</td>\n",
       "      <td>80.010002</td>\n",
       "      <td>81.150002</td>\n",
       "      <td>79.500000</td>\n",
       "      <td>80.080002</td>\n",
       "      <td>80.080002</td>\n",
       "      <td>143400</td>\n",
       "    </tr>\n",
       "    <tr>\n",
       "      <th>3</th>\n",
       "      <td>2017-03-03</td>\n",
       "      <td>80.230003</td>\n",
       "      <td>80.989998</td>\n",
       "      <td>79.290001</td>\n",
       "      <td>80.650002</td>\n",
       "      <td>80.650002</td>\n",
       "      <td>127200</td>\n",
       "    </tr>\n",
       "    <tr>\n",
       "      <th>4</th>\n",
       "      <td>2017-03-06</td>\n",
       "      <td>80.629997</td>\n",
       "      <td>80.629997</td>\n",
       "      <td>78.620003</td>\n",
       "      <td>79.550003</td>\n",
       "      <td>79.550003</td>\n",
       "      <td>100200</td>\n",
       "    </tr>\n",
       "  </tbody>\n",
       "</table>\n",
       "</div>"
      ],
      "text/plain": [
       "         Date       Open       High        Low      Close  Adj Close  Volume\n",
       "0  2017-02-28  78.489998  80.660004  78.470001  78.870003  78.870003  214200\n",
       "1  2017-03-01  79.989998  80.120003  78.800003  79.550003  79.550003  174700\n",
       "2  2017-03-02  80.010002  81.150002  79.500000  80.080002  80.080002  143400\n",
       "3  2017-03-03  80.230003  80.989998  79.290001  80.650002  80.650002  127200\n",
       "4  2017-03-06  80.629997  80.629997  78.620003  79.550003  79.550003  100200"
      ]
     },
     "execution_count": 2,
     "metadata": {},
     "output_type": "execute_result"
    }
   ],
   "source": [
    "shop = pd.read_csv('SHOP.TO historical data.csv', sep=',', header='infer')\n",
    "shop.head()"
   ]
  },
  {
   "cell_type": "code",
   "execution_count": 3,
   "metadata": {},
   "outputs": [],
   "source": [
    "shop['Symbol']='SHOP.TO'\n",
    "shop['Volume']=shop.Volume/1000\n",
    "shop = shop.drop(['High','Low','Adj Close','Open'],1)\n",
    "\n",
    "# Percentage Change\n",
    "shop['Percent_PnL'] = (shop.Close-shop.Close.shift())/shop.Close.shift()\n",
    "shop['PosNeg'] = np.where(shop.Percent_PnL >0, 'Pos','Neg')\n",
    "shop['Pattern'] = shop.groupby((shop.PosNeg!=shop.PosNeg.shift()).cumsum()).cumcount()\n",
    "\n",
    "# Only keep records where the change pattern is consistent within 1 record\n",
    "shop = shop[shop.Pattern !=0]\n",
    "\n",
    "# Counters to help calculate Cumulative Total Change\n",
    "shop['Counter'] = np.where(shop.Pattern==1,1,0)\n",
    "shop['Counter']= shop.Counter.cumsum()\n",
    "\n",
    "# Calculate Total Cumulative Change within a similar incline/decline pattern\n",
    "shop['Total_Change']=shop.groupby(['Counter'])['Percent_PnL'].cumsum()\n",
    "\n",
    "# Flag when a cumulative change is > abs(0.06)\n",
    "shop['Investigate']=np.where(shop.Total_Change>abs(0.06),1,0)\n",
    "\n",
    "# Remove days that aren't being flagged to investigate\n",
    "shop = shop[shop.Investigate !=0]\n",
    "\n",
    "# Create a risk score based on: Total_Change, Volume, and Change Pattern\n",
    "shop['Score']= (shop.Total_Change*shop.Volume)/shop.Pattern\n",
    "\n",
    "# Sort to see dates with the highest score\n",
    "shop = shop.sort_values(['Score'],ascending=0)\n",
    "\n",
    "shop = shop.drop(['Counter','Investigate'],1)\n"
   ]
  },
  {
   "cell_type": "markdown",
   "metadata": {},
   "source": [
    "_______________\n",
    "We narrowed the dataframe down to 17 days to investigate with ranking order of risk score.\n",
    "\n",
    "**Note:** Risk score takes into account Total Change, Volume, and Change Pattern. Dates with higher total change and volume, and a lower change pattern number will have a higher risk score. This should reflect a sudden jumps in PnL and high volume sold.  \n",
    "\n",
    "\n",
    "** Days with higher risk score should be investigated first:** Let's investigate February 12, 2018"
   ]
  },
  {
   "cell_type": "code",
   "execution_count": 4,
   "metadata": {
    "scrolled": true
   },
   "outputs": [
    {
     "data": {
      "text/html": [
       "<div>\n",
       "<style scoped>\n",
       "    .dataframe tbody tr th:only-of-type {\n",
       "        vertical-align: middle;\n",
       "    }\n",
       "\n",
       "    .dataframe tbody tr th {\n",
       "        vertical-align: top;\n",
       "    }\n",
       "\n",
       "    .dataframe thead th {\n",
       "        text-align: right;\n",
       "    }\n",
       "</style>\n",
       "<table border=\"1\" class=\"dataframe\">\n",
       "  <thead>\n",
       "    <tr style=\"text-align: right;\">\n",
       "      <th></th>\n",
       "      <th>Date</th>\n",
       "      <th>Close</th>\n",
       "      <th>Volume</th>\n",
       "      <th>Symbol</th>\n",
       "      <th>Percent_PnL</th>\n",
       "      <th>PosNeg</th>\n",
       "      <th>Pattern</th>\n",
       "      <th>Total_Change</th>\n",
       "      <th>Score</th>\n",
       "    </tr>\n",
       "  </thead>\n",
       "  <tbody>\n",
       "    <tr>\n",
       "      <th>240</th>\n",
       "      <td>2018-02-12</td>\n",
       "      <td>161.050003</td>\n",
       "      <td>687.2</td>\n",
       "      <td>SHOP.TO</td>\n",
       "      <td>0.070954</td>\n",
       "      <td>Pos</td>\n",
       "      <td>1</td>\n",
       "      <td>0.070954</td>\n",
       "      <td>48.759292</td>\n",
       "    </tr>\n",
       "    <tr>\n",
       "      <th>44</th>\n",
       "      <td>2017-05-02</td>\n",
       "      <td>113.940002</td>\n",
       "      <td>801.7</td>\n",
       "      <td>SHOP.TO</td>\n",
       "      <td>0.074196</td>\n",
       "      <td>Pos</td>\n",
       "      <td>2</td>\n",
       "      <td>0.096853</td>\n",
       "      <td>38.823705</td>\n",
       "    </tr>\n",
       "    <tr>\n",
       "      <th>123</th>\n",
       "      <td>2017-08-24</td>\n",
       "      <td>133.500000</td>\n",
       "      <td>683.8</td>\n",
       "      <td>SHOP.TO</td>\n",
       "      <td>0.038183</td>\n",
       "      <td>Pos</td>\n",
       "      <td>4</td>\n",
       "      <td>0.115780</td>\n",
       "      <td>19.792540</td>\n",
       "    </tr>\n",
       "    <tr>\n",
       "      <th>128</th>\n",
       "      <td>2017-08-31</td>\n",
       "      <td>138.000000</td>\n",
       "      <td>650.6</td>\n",
       "      <td>SHOP.TO</td>\n",
       "      <td>0.008624</td>\n",
       "      <td>Pos</td>\n",
       "      <td>3</td>\n",
       "      <td>0.062774</td>\n",
       "      <td>13.613602</td>\n",
       "    </tr>\n",
       "    <tr>\n",
       "      <th>229</th>\n",
       "      <td>2018-01-26</td>\n",
       "      <td>159.070007</td>\n",
       "      <td>346.9</td>\n",
       "      <td>SHOP.TO</td>\n",
       "      <td>0.030914</td>\n",
       "      <td>Pos</td>\n",
       "      <td>2</td>\n",
       "      <td>0.076874</td>\n",
       "      <td>13.333742</td>\n",
       "    </tr>\n",
       "    <tr>\n",
       "      <th>122</th>\n",
       "      <td>2017-08-23</td>\n",
       "      <td>128.589996</td>\n",
       "      <td>492.5</td>\n",
       "      <td>SHOP.TO</td>\n",
       "      <td>0.038021</td>\n",
       "      <td>Pos</td>\n",
       "      <td>3</td>\n",
       "      <td>0.077596</td>\n",
       "      <td>12.738725</td>\n",
       "    </tr>\n",
       "    <tr>\n",
       "      <th>198</th>\n",
       "      <td>2017-12-11</td>\n",
       "      <td>133.800003</td>\n",
       "      <td>393.5</td>\n",
       "      <td>SHOP.TO</td>\n",
       "      <td>0.033205</td>\n",
       "      <td>Pos</td>\n",
       "      <td>3</td>\n",
       "      <td>0.091011</td>\n",
       "      <td>11.937639</td>\n",
       "    </tr>\n",
       "    <tr>\n",
       "      <th>50</th>\n",
       "      <td>2017-05-10</td>\n",
       "      <td>127.150002</td>\n",
       "      <td>398.0</td>\n",
       "      <td>SHOP.TO</td>\n",
       "      <td>0.036859</td>\n",
       "      <td>Pos</td>\n",
       "      <td>3</td>\n",
       "      <td>0.085959</td>\n",
       "      <td>11.403857</td>\n",
       "    </tr>\n",
       "    <tr>\n",
       "      <th>135</th>\n",
       "      <td>2017-09-12</td>\n",
       "      <td>146.690002</td>\n",
       "      <td>468.3</td>\n",
       "      <td>SHOP.TO</td>\n",
       "      <td>0.025733</td>\n",
       "      <td>Pos</td>\n",
       "      <td>3</td>\n",
       "      <td>0.065666</td>\n",
       "      <td>10.250484</td>\n",
       "    </tr>\n",
       "    <tr>\n",
       "      <th>184</th>\n",
       "      <td>2017-11-21</td>\n",
       "      <td>140.850006</td>\n",
       "      <td>468.5</td>\n",
       "      <td>SHOP.TO</td>\n",
       "      <td>0.013309</td>\n",
       "      <td>Pos</td>\n",
       "      <td>3</td>\n",
       "      <td>0.061904</td>\n",
       "      <td>9.667371</td>\n",
       "    </tr>\n",
       "    <tr>\n",
       "      <th>36</th>\n",
       "      <td>2017-04-20</td>\n",
       "      <td>102.709999</td>\n",
       "      <td>347.0</td>\n",
       "      <td>SHOP.TO</td>\n",
       "      <td>0.050312</td>\n",
       "      <td>Pos</td>\n",
       "      <td>4</td>\n",
       "      <td>0.087486</td>\n",
       "      <td>7.589450</td>\n",
       "    </tr>\n",
       "    <tr>\n",
       "      <th>20</th>\n",
       "      <td>2017-03-28</td>\n",
       "      <td>96.739998</td>\n",
       "      <td>303.5</td>\n",
       "      <td>SHOP.TO</td>\n",
       "      <td>0.024137</td>\n",
       "      <td>Pos</td>\n",
       "      <td>3</td>\n",
       "      <td>0.069687</td>\n",
       "      <td>7.050051</td>\n",
       "    </tr>\n",
       "    <tr>\n",
       "      <th>37</th>\n",
       "      <td>2017-04-21</td>\n",
       "      <td>103.169998</td>\n",
       "      <td>285.7</td>\n",
       "      <td>SHOP.TO</td>\n",
       "      <td>0.004479</td>\n",
       "      <td>Pos</td>\n",
       "      <td>5</td>\n",
       "      <td>0.091965</td>\n",
       "      <td>5.254884</td>\n",
       "    </tr>\n",
       "    <tr>\n",
       "      <th>8</th>\n",
       "      <td>2017-03-10</td>\n",
       "      <td>86.349998</td>\n",
       "      <td>202.6</td>\n",
       "      <td>SHOP.TO</td>\n",
       "      <td>0.025534</td>\n",
       "      <td>Pos</td>\n",
       "      <td>3</td>\n",
       "      <td>0.067698</td>\n",
       "      <td>4.571899</td>\n",
       "    </tr>\n",
       "    <tr>\n",
       "      <th>14</th>\n",
       "      <td>2017-03-20</td>\n",
       "      <td>92.000000</td>\n",
       "      <td>189.8</td>\n",
       "      <td>SHOP.TO</td>\n",
       "      <td>0.032084</td>\n",
       "      <td>Pos</td>\n",
       "      <td>3</td>\n",
       "      <td>0.063745</td>\n",
       "      <td>4.032940</td>\n",
       "    </tr>\n",
       "    <tr>\n",
       "      <th>21</th>\n",
       "      <td>2017-03-29</td>\n",
       "      <td>97.000000</td>\n",
       "      <td>222.0</td>\n",
       "      <td>SHOP.TO</td>\n",
       "      <td>0.002688</td>\n",
       "      <td>Pos</td>\n",
       "      <td>4</td>\n",
       "      <td>0.072375</td>\n",
       "      <td>4.016820</td>\n",
       "    </tr>\n",
       "    <tr>\n",
       "      <th>9</th>\n",
       "      <td>2017-03-13</td>\n",
       "      <td>87.360001</td>\n",
       "      <td>172.7</td>\n",
       "      <td>SHOP.TO</td>\n",
       "      <td>0.011697</td>\n",
       "      <td>Pos</td>\n",
       "      <td>4</td>\n",
       "      <td>0.079395</td>\n",
       "      <td>3.427880</td>\n",
       "    </tr>\n",
       "  </tbody>\n",
       "</table>\n",
       "</div>"
      ],
      "text/plain": [
       "           Date       Close  Volume   Symbol  Percent_PnL PosNeg  Pattern  \\\n",
       "240  2018-02-12  161.050003   687.2  SHOP.TO     0.070954    Pos        1   \n",
       "44   2017-05-02  113.940002   801.7  SHOP.TO     0.074196    Pos        2   \n",
       "123  2017-08-24  133.500000   683.8  SHOP.TO     0.038183    Pos        4   \n",
       "128  2017-08-31  138.000000   650.6  SHOP.TO     0.008624    Pos        3   \n",
       "229  2018-01-26  159.070007   346.9  SHOP.TO     0.030914    Pos        2   \n",
       "122  2017-08-23  128.589996   492.5  SHOP.TO     0.038021    Pos        3   \n",
       "198  2017-12-11  133.800003   393.5  SHOP.TO     0.033205    Pos        3   \n",
       "50   2017-05-10  127.150002   398.0  SHOP.TO     0.036859    Pos        3   \n",
       "135  2017-09-12  146.690002   468.3  SHOP.TO     0.025733    Pos        3   \n",
       "184  2017-11-21  140.850006   468.5  SHOP.TO     0.013309    Pos        3   \n",
       "36   2017-04-20  102.709999   347.0  SHOP.TO     0.050312    Pos        4   \n",
       "20   2017-03-28   96.739998   303.5  SHOP.TO     0.024137    Pos        3   \n",
       "37   2017-04-21  103.169998   285.7  SHOP.TO     0.004479    Pos        5   \n",
       "8    2017-03-10   86.349998   202.6  SHOP.TO     0.025534    Pos        3   \n",
       "14   2017-03-20   92.000000   189.8  SHOP.TO     0.032084    Pos        3   \n",
       "21   2017-03-29   97.000000   222.0  SHOP.TO     0.002688    Pos        4   \n",
       "9    2017-03-13   87.360001   172.7  SHOP.TO     0.011697    Pos        4   \n",
       "\n",
       "     Total_Change      Score  \n",
       "240      0.070954  48.759292  \n",
       "44       0.096853  38.823705  \n",
       "123      0.115780  19.792540  \n",
       "128      0.062774  13.613602  \n",
       "229      0.076874  13.333742  \n",
       "122      0.077596  12.738725  \n",
       "198      0.091011  11.937639  \n",
       "50       0.085959  11.403857  \n",
       "135      0.065666  10.250484  \n",
       "184      0.061904   9.667371  \n",
       "36       0.087486   7.589450  \n",
       "20       0.069687   7.050051  \n",
       "37       0.091965   5.254884  \n",
       "8        0.067698   4.571899  \n",
       "14       0.063745   4.032940  \n",
       "21       0.072375   4.016820  \n",
       "9        0.079395   3.427880  "
      ]
     },
     "execution_count": 4,
     "metadata": {},
     "output_type": "execute_result"
    }
   ],
   "source": [
    "shop"
   ]
  },
  {
   "cell_type": "markdown",
   "metadata": {},
   "source": [
    "______________________________________________________________________________________________________________________________"
   ]
  },
  {
   "cell_type": "markdown",
   "metadata": {},
   "source": [
    "## Relevant News Release"
   ]
  },
  {
   "cell_type": "markdown",
   "metadata": {},
   "source": [
    "[February 12, 2017: SHOP.TO News Release](http://www.cbc.ca/news/canada/ottawa/ontario-shopify-marijuana-online-shopping-1.4531228)\n",
    "> * *The Ontario Government has inked a deal to use Shopify Inc.'s ecommerce platform for cannibus sales online and instores as part of its plan to be the province's sole distributor of legal recreational marijuana.* \n",
    "\n"
   ]
  },
  {
   "cell_type": "markdown",
   "metadata": {},
   "source": [
    "______________________________________________________________________________________________________________________________"
   ]
  },
  {
   "cell_type": "markdown",
   "metadata": {},
   "source": [
    "______________________________________________________________________________________________________________________________"
   ]
  },
  {
   "cell_type": "markdown",
   "metadata": {},
   "source": [
    "## PART 2: Identify traders who sold on February 12, 2018\n",
    "\n",
    "**Logic:**\n",
    "1. Identify traders who sold on February 12, 2018\n",
    "2. Identify traders who purchased SHOP.TSX within the last month\n",
    "3. Investigate traders who meet these criteria and sold for a large total of SHOP.TSX\n",
    "_____________________\n",
    "### February 12, 2018 SHOP.TO Trade Data [Mock Data]"
   ]
  },
  {
   "cell_type": "code",
   "execution_count": 5,
   "metadata": {
    "scrolled": false
   },
   "outputs": [
    {
     "data": {
      "text/html": [
       "<div>\n",
       "<style scoped>\n",
       "    .dataframe tbody tr th:only-of-type {\n",
       "        vertical-align: middle;\n",
       "    }\n",
       "\n",
       "    .dataframe tbody tr th {\n",
       "        vertical-align: top;\n",
       "    }\n",
       "\n",
       "    .dataframe thead th {\n",
       "        text-align: right;\n",
       "    }\n",
       "</style>\n",
       "<table border=\"1\" class=\"dataframe\">\n",
       "  <thead>\n",
       "    <tr style=\"text-align: right;\">\n",
       "      <th></th>\n",
       "      <th>account_id</th>\n",
       "      <th>date</th>\n",
       "      <th>recent_purchase</th>\n",
       "      <th>recent_same_stock_purchase</th>\n",
       "      <th>first_name</th>\n",
       "      <th>last_name</th>\n",
       "      <th>country</th>\n",
       "      <th>state_province</th>\n",
       "      <th>city</th>\n",
       "      <th>stock_name</th>\n",
       "      <th>stock_symbol</th>\n",
       "      <th>stock_market</th>\n",
       "      <th>stock_sector</th>\n",
       "      <th>stock_industry</th>\n",
       "      <th>transaction_type</th>\n",
       "      <th>price</th>\n",
       "      <th>quantity</th>\n",
       "      <th>portfolio_percentage</th>\n",
       "      <th>total</th>\n",
       "    </tr>\n",
       "  </thead>\n",
       "  <tbody>\n",
       "    <tr>\n",
       "      <th>0</th>\n",
       "      <td>100000</td>\n",
       "      <td>2018-02-12</td>\n",
       "      <td>2017-06-05</td>\n",
       "      <td>2017-05-20</td>\n",
       "      <td>Deedee</td>\n",
       "      <td>Woolacott</td>\n",
       "      <td>Canada</td>\n",
       "      <td>Ontario</td>\n",
       "      <td>Gananoque</td>\n",
       "      <td>SHOPIFY INC (TSX)</td>\n",
       "      <td>SHOP.TO</td>\n",
       "      <td>TSX</td>\n",
       "      <td>Technology</td>\n",
       "      <td>Retail internet</td>\n",
       "      <td>buy</td>\n",
       "      <td>157.33</td>\n",
       "      <td>76</td>\n",
       "      <td>6.70</td>\n",
       "      <td>11957.08</td>\n",
       "    </tr>\n",
       "    <tr>\n",
       "      <th>1</th>\n",
       "      <td>100001</td>\n",
       "      <td>2018-02-12</td>\n",
       "      <td>2017-05-28</td>\n",
       "      <td>2017-04-11</td>\n",
       "      <td>Berke</td>\n",
       "      <td>Skerme</td>\n",
       "      <td>Canada</td>\n",
       "      <td>Saskatchewan</td>\n",
       "      <td>Saskatoon</td>\n",
       "      <td>SHOPIFY INC (TSX)</td>\n",
       "      <td>SHOP.TO</td>\n",
       "      <td>TSX</td>\n",
       "      <td>Technology</td>\n",
       "      <td>Retail internet</td>\n",
       "      <td>sell</td>\n",
       "      <td>157.05</td>\n",
       "      <td>52</td>\n",
       "      <td>1.37</td>\n",
       "      <td>8166.60</td>\n",
       "    </tr>\n",
       "    <tr>\n",
       "      <th>2</th>\n",
       "      <td>100002</td>\n",
       "      <td>2018-02-12</td>\n",
       "      <td>2017-09-18</td>\n",
       "      <td>2017-03-02</td>\n",
       "      <td>Micaela</td>\n",
       "      <td>Immings</td>\n",
       "      <td>Canada</td>\n",
       "      <td>Quebec</td>\n",
       "      <td>Forestville</td>\n",
       "      <td>SHOPIFY INC (TSX)</td>\n",
       "      <td>SHOP.TO</td>\n",
       "      <td>TSX</td>\n",
       "      <td>Technology</td>\n",
       "      <td>Retail internet</td>\n",
       "      <td>sell</td>\n",
       "      <td>159.39</td>\n",
       "      <td>47</td>\n",
       "      <td>1.21</td>\n",
       "      <td>7491.33</td>\n",
       "    </tr>\n",
       "    <tr>\n",
       "      <th>3</th>\n",
       "      <td>100003</td>\n",
       "      <td>2018-02-12</td>\n",
       "      <td>2017-06-03</td>\n",
       "      <td>2017-06-15</td>\n",
       "      <td>Rachele</td>\n",
       "      <td>Oxlee</td>\n",
       "      <td>Canada</td>\n",
       "      <td>Northwest Territories</td>\n",
       "      <td>Norman Wells</td>\n",
       "      <td>SHOPIFY INC (TSX)</td>\n",
       "      <td>SHOP.TO</td>\n",
       "      <td>TSX</td>\n",
       "      <td>Technology</td>\n",
       "      <td>Retail internet</td>\n",
       "      <td>sell</td>\n",
       "      <td>159.87</td>\n",
       "      <td>44</td>\n",
       "      <td>4.03</td>\n",
       "      <td>7034.28</td>\n",
       "    </tr>\n",
       "    <tr>\n",
       "      <th>4</th>\n",
       "      <td>100004</td>\n",
       "      <td>2018-02-12</td>\n",
       "      <td>2017-04-04</td>\n",
       "      <td>2017-08-30</td>\n",
       "      <td>Gayel</td>\n",
       "      <td>Risborough</td>\n",
       "      <td>Canada</td>\n",
       "      <td>Saskatchewan</td>\n",
       "      <td>Prince Albert</td>\n",
       "      <td>SHOPIFY INC (TSX)</td>\n",
       "      <td>SHOP.TO</td>\n",
       "      <td>TSX</td>\n",
       "      <td>Technology</td>\n",
       "      <td>Retail internet</td>\n",
       "      <td>sell</td>\n",
       "      <td>157.00</td>\n",
       "      <td>43</td>\n",
       "      <td>2.77</td>\n",
       "      <td>6751.00</td>\n",
       "    </tr>\n",
       "  </tbody>\n",
       "</table>\n",
       "</div>"
      ],
      "text/plain": [
       "   account_id        date recent_purchase recent_same_stock_purchase  \\\n",
       "0      100000  2018-02-12      2017-06-05                 2017-05-20   \n",
       "1      100001  2018-02-12      2017-05-28                 2017-04-11   \n",
       "2      100002  2018-02-12      2017-09-18                 2017-03-02   \n",
       "3      100003  2018-02-12      2017-06-03                 2017-06-15   \n",
       "4      100004  2018-02-12      2017-04-04                 2017-08-30   \n",
       "\n",
       "  first_name   last_name country         state_province           city  \\\n",
       "0     Deedee   Woolacott  Canada                Ontario      Gananoque   \n",
       "1      Berke      Skerme  Canada           Saskatchewan      Saskatoon   \n",
       "2    Micaela     Immings  Canada                 Quebec    Forestville   \n",
       "3    Rachele       Oxlee  Canada  Northwest Territories   Norman Wells   \n",
       "4      Gayel  Risborough  Canada           Saskatchewan  Prince Albert   \n",
       "\n",
       "          stock_name stock_symbol stock_market stock_sector   stock_industry  \\\n",
       "0  SHOPIFY INC (TSX)      SHOP.TO          TSX   Technology  Retail internet   \n",
       "1  SHOPIFY INC (TSX)      SHOP.TO          TSX   Technology  Retail internet   \n",
       "2  SHOPIFY INC (TSX)      SHOP.TO          TSX   Technology  Retail internet   \n",
       "3  SHOPIFY INC (TSX)      SHOP.TO          TSX   Technology  Retail internet   \n",
       "4  SHOPIFY INC (TSX)      SHOP.TO          TSX   Technology  Retail internet   \n",
       "\n",
       "  transaction_type   price  quantity  portfolio_percentage     total  \n",
       "0              buy  157.33        76                  6.70  11957.08  \n",
       "1             sell  157.05        52                  1.37   8166.60  \n",
       "2             sell  159.39        47                  1.21   7491.33  \n",
       "3             sell  159.87        44                  4.03   7034.28  \n",
       "4             sell  157.00        43                  2.77   6751.00  "
      ]
     },
     "execution_count": 5,
     "metadata": {},
     "output_type": "execute_result"
    }
   ],
   "source": [
    "trd = pd.read_csv('SHOP.TO trades Feb 12.csv', sep=',', header='infer')\n",
    "trd.head()\n",
    "\n",
    "# note: portfolio_percentage  = how much SHOP.TO makes up of the entire account portfolio "
   ]
  },
  {
   "cell_type": "code",
   "execution_count": 6,
   "metadata": {},
   "outputs": [
    {
     "data": {
      "text/plain": [
       "84"
      ]
     },
     "execution_count": 6,
     "metadata": {},
     "output_type": "execute_result"
    }
   ],
   "source": [
    "# Only keep records where the account is selling\n",
    "trd = trd[trd.transaction_type==\"sell\"]\n",
    "\n",
    "# Keep only records where seller bought SHOP.TO shares within the 31 days\n",
    "trd['Date_Diff'] = (pd.to_datetime(trd.date)-pd.to_datetime(trd.recent_same_stock_purchase)).dt.days\n",
    "trd = trd[trd.Date_Diff<=31]\n",
    "\n",
    "# Sort by portfolio percentage\n",
    "trd = trd.sort_values(['total'],ascending=0)\n",
    "\n",
    "# Return number of records\n",
    "len(trd.index)"
   ]
  },
  {
   "cell_type": "markdown",
   "metadata": {},
   "source": [
    "\n",
    "_____________________________\n",
    "We went from 2000 trades to investigate to 84.\n",
    "\n",
    "**We can now take a list of account_id's to investigate**: Let's investigate the top 4 account_ids in further detail."
   ]
  },
  {
   "cell_type": "code",
   "execution_count": 7,
   "metadata": {
    "scrolled": false
   },
   "outputs": [
    {
     "data": {
      "text/html": [
       "<div>\n",
       "<style scoped>\n",
       "    .dataframe tbody tr th:only-of-type {\n",
       "        vertical-align: middle;\n",
       "    }\n",
       "\n",
       "    .dataframe tbody tr th {\n",
       "        vertical-align: top;\n",
       "    }\n",
       "\n",
       "    .dataframe thead th {\n",
       "        text-align: right;\n",
       "    }\n",
       "</style>\n",
       "<table border=\"1\" class=\"dataframe\">\n",
       "  <thead>\n",
       "    <tr style=\"text-align: right;\">\n",
       "      <th></th>\n",
       "      <th>account_id</th>\n",
       "      <th>date</th>\n",
       "      <th>recent_purchase</th>\n",
       "      <th>recent_same_stock_purchase</th>\n",
       "      <th>first_name</th>\n",
       "      <th>last_name</th>\n",
       "      <th>country</th>\n",
       "      <th>state_province</th>\n",
       "      <th>city</th>\n",
       "      <th>stock_name</th>\n",
       "      <th>stock_symbol</th>\n",
       "      <th>stock_market</th>\n",
       "      <th>stock_sector</th>\n",
       "      <th>stock_industry</th>\n",
       "      <th>transaction_type</th>\n",
       "      <th>price</th>\n",
       "      <th>quantity</th>\n",
       "      <th>portfolio_percentage</th>\n",
       "      <th>total</th>\n",
       "      <th>Date_Diff</th>\n",
       "    </tr>\n",
       "  </thead>\n",
       "  <tbody>\n",
       "    <tr>\n",
       "      <th>674</th>\n",
       "      <td>100674</td>\n",
       "      <td>2018-02-12</td>\n",
       "      <td>2018-02-05</td>\n",
       "      <td>2018-02-05</td>\n",
       "      <td>Zachary</td>\n",
       "      <td>Scuderi</td>\n",
       "      <td>Canada</td>\n",
       "      <td>Ontario</td>\n",
       "      <td>Lambton Shores</td>\n",
       "      <td>SHOPIFY INC (TSX)</td>\n",
       "      <td>SHOP.TO</td>\n",
       "      <td>TSX</td>\n",
       "      <td>Technology</td>\n",
       "      <td>Retail internet</td>\n",
       "      <td>sell</td>\n",
       "      <td>157.47</td>\n",
       "      <td>310</td>\n",
       "      <td>20.12</td>\n",
       "      <td>48815.70</td>\n",
       "      <td>7</td>\n",
       "    </tr>\n",
       "    <tr>\n",
       "      <th>6</th>\n",
       "      <td>100006</td>\n",
       "      <td>2018-02-12</td>\n",
       "      <td>2018-02-08</td>\n",
       "      <td>2018-02-08</td>\n",
       "      <td>Jenn</td>\n",
       "      <td>Im</td>\n",
       "      <td>Canada</td>\n",
       "      <td>Quebec</td>\n",
       "      <td>Maniwaki</td>\n",
       "      <td>SHOPIFY INC (TSX)</td>\n",
       "      <td>SHOP.TO</td>\n",
       "      <td>TSX</td>\n",
       "      <td>Technology</td>\n",
       "      <td>Retail internet</td>\n",
       "      <td>sell</td>\n",
       "      <td>156.52</td>\n",
       "      <td>239</td>\n",
       "      <td>38.45</td>\n",
       "      <td>37408.28</td>\n",
       "      <td>4</td>\n",
       "    </tr>\n",
       "    <tr>\n",
       "      <th>1883</th>\n",
       "      <td>101883</td>\n",
       "      <td>2018-02-12</td>\n",
       "      <td>2018-01-31</td>\n",
       "      <td>2018-01-31</td>\n",
       "      <td>Hannah</td>\n",
       "      <td>Lee</td>\n",
       "      <td>Canada</td>\n",
       "      <td>Newfoundland and Labrador</td>\n",
       "      <td>Bonavista</td>\n",
       "      <td>SHOPIFY INC (TSX)</td>\n",
       "      <td>SHOP.TO</td>\n",
       "      <td>TSX</td>\n",
       "      <td>Technology</td>\n",
       "      <td>Retail internet</td>\n",
       "      <td>sell</td>\n",
       "      <td>162.19</td>\n",
       "      <td>99</td>\n",
       "      <td>27.24</td>\n",
       "      <td>16056.81</td>\n",
       "      <td>12</td>\n",
       "    </tr>\n",
       "    <tr>\n",
       "      <th>944</th>\n",
       "      <td>100944</td>\n",
       "      <td>2018-02-12</td>\n",
       "      <td>2018-01-25</td>\n",
       "      <td>2018-01-20</td>\n",
       "      <td>Rowe</td>\n",
       "      <td>Steenson</td>\n",
       "      <td>Canada</td>\n",
       "      <td>Quebec</td>\n",
       "      <td>Château-Richer</td>\n",
       "      <td>SHOPIFY INC (TSX)</td>\n",
       "      <td>SHOP.TO</td>\n",
       "      <td>TSX</td>\n",
       "      <td>Technology</td>\n",
       "      <td>Retail internet</td>\n",
       "      <td>sell</td>\n",
       "      <td>161.13</td>\n",
       "      <td>99</td>\n",
       "      <td>6.54</td>\n",
       "      <td>15951.87</td>\n",
       "      <td>23</td>\n",
       "    </tr>\n",
       "  </tbody>\n",
       "</table>\n",
       "</div>"
      ],
      "text/plain": [
       "      account_id        date recent_purchase recent_same_stock_purchase  \\\n",
       "674       100674  2018-02-12      2018-02-05                 2018-02-05   \n",
       "6         100006  2018-02-12      2018-02-08                 2018-02-08   \n",
       "1883      101883  2018-02-12      2018-01-31                 2018-01-31   \n",
       "944       100944  2018-02-12      2018-01-25                 2018-01-20   \n",
       "\n",
       "     first_name last_name country             state_province            city  \\\n",
       "674     Zachary   Scuderi  Canada                    Ontario  Lambton Shores   \n",
       "6          Jenn        Im  Canada                     Quebec        Maniwaki   \n",
       "1883     Hannah       Lee  Canada  Newfoundland and Labrador       Bonavista   \n",
       "944        Rowe  Steenson  Canada                     Quebec  Château-Richer   \n",
       "\n",
       "             stock_name stock_symbol stock_market stock_sector  \\\n",
       "674   SHOPIFY INC (TSX)      SHOP.TO          TSX   Technology   \n",
       "6     SHOPIFY INC (TSX)      SHOP.TO          TSX   Technology   \n",
       "1883  SHOPIFY INC (TSX)      SHOP.TO          TSX   Technology   \n",
       "944   SHOPIFY INC (TSX)      SHOP.TO          TSX   Technology   \n",
       "\n",
       "       stock_industry transaction_type   price  quantity  \\\n",
       "674   Retail internet             sell  157.47       310   \n",
       "6     Retail internet             sell  156.52       239   \n",
       "1883  Retail internet             sell  162.19        99   \n",
       "944   Retail internet             sell  161.13        99   \n",
       "\n",
       "      portfolio_percentage     total  Date_Diff  \n",
       "674                  20.12  48815.70          7  \n",
       "6                    38.45  37408.28          4  \n",
       "1883                 27.24  16056.81         12  \n",
       "944                   6.54  15951.87         23  "
      ]
     },
     "execution_count": 7,
     "metadata": {},
     "output_type": "execute_result"
    }
   ],
   "source": [
    "trd.head(4)"
   ]
  },
  {
   "cell_type": "markdown",
   "metadata": {},
   "source": [
    "______________________________________________________________________________________________________________________________"
   ]
  },
  {
   "cell_type": "markdown",
   "metadata": {},
   "source": [
    "______________________________________________________________________________________________________________________________"
   ]
  },
  {
   "cell_type": "markdown",
   "metadata": {},
   "source": [
    "## PART 3: Investigate traders \n",
    "\n",
    "**Logic:**\n",
    "1. Pull last three months of trade data for account id's who sold on February 12\n",
    "2. Investigate different measures to look for suspicious activity\n",
    "    - Trading anomalies (Trading in an unusual sector)\n",
    "    - Large purchases of SHOP.TO\n",
    "    - Accumulation of stock (Large purchases & Frequent trading activity of SHOP.TO)\n",
    "    - Consecutive purchases\n",
    "    - Trading SHOP.TO on an inactive account\n",
    "____________\n",
    "    "
   ]
  },
  {
   "cell_type": "markdown",
   "metadata": {},
   "source": [
    "### Investigating id 100674 (Zachary Scuderi): Trading anomolies "
   ]
  },
  {
   "cell_type": "code",
   "execution_count": 8,
   "metadata": {},
   "outputs": [],
   "source": [
    "mon = pd.read_csv('3_months_trading.csv', sep=',', header='infer')\n",
    "\n",
    "mon = mon[mon.account_id == 100674]\n",
    "mon = mon.groupby(['stock_sector','transaction_type','account_id'])['total'].agg(['sum','count']).reset_index()\n",
    "mon.rename(columns={'sum':'total_sum', 'count':'num_purchases'}, inplace=True)\n",
    "mon = mon[mon.transaction_type==\"buy\"]"
   ]
  },
  {
   "cell_type": "markdown",
   "metadata": {},
   "source": [
    "* Zachary Scuderi only purchased and sold one Technology sector share (SHOP.TO) in the last three 3 months of trading.\n",
    "* This purchase was made 7 days before selling on February 12. "
   ]
  },
  {
   "cell_type": "code",
   "execution_count": 9,
   "metadata": {
    "scrolled": true
   },
   "outputs": [
    {
     "data": {
      "image/png": "[encoded data removed]",
      "text/plain": [
       "<matplotlib.figure.Figure at 0x68294e0>"
      ]
     },
     "metadata": {},
     "output_type": "display_data"
    }
   ],
   "source": [
    "plt.bar(mon.stock_sector,mon.num_purchases, align='center')\n",
    "plt.title(\"Account ID: 100674 Purchases by Sector (last 3 months)\")\n",
    "plt.xlabel(\"Stock Sector\")\n",
    "plt.ylabel(\"Num of Purchases\")\n",
    "plt.rc('figure',figsize=(10,2))"
   ]
  },
  {
   "cell_type": "markdown",
   "metadata": {},
   "source": [
    "### Investigating id 100674 (Zachary Scuderi): Large purchases of investigated stock "
   ]
  },
  {
   "cell_type": "code",
   "execution_count": 10,
   "metadata": {},
   "outputs": [],
   "source": [
    "mon = pd.read_csv('3_months_trading.csv', sep=',', header='infer')\n",
    "\n",
    "mon = mon[mon.account_id == 100674]\n",
    "mon = mon[mon.transaction_type==\"buy\"]\n",
    "mon = mon.groupby(['stock_symbol','account_id'])['quantity'].agg(['sum','count']).reset_index()\n",
    "mon.rename(columns={'sum':'quantity_sum', 'count':'num_purchases'}, inplace=True)"
   ]
  },
  {
   "cell_type": "markdown",
   "metadata": {},
   "source": [
    "\n",
    "* Zachary Scuderi purchased an extremely high quantity of SHOP.TO shares compared to other securities in the last three months of trading."
   ]
  },
  {
   "cell_type": "code",
   "execution_count": 11,
   "metadata": {
    "scrolled": true
   },
   "outputs": [
    {
     "data": {
      "image/png": "[encoded data removed]",
      "text/plain": [
       "<matplotlib.figure.Figure at 0x90641d0>"
      ]
     },
     "metadata": {},
     "output_type": "display_data"
    }
   ],
   "source": [
    "plt.bar(mon.stock_symbol, mon.quantity_sum, align='center')\n",
    "plt.title(\"Account ID: 100674 Purchase Quantity by Stock Symbol (last 3 month)\")\n",
    "plt.xlabel(\"Stock Symbol\")\n",
    "plt.xticks(rotation=90)\n",
    "plt.ylabel(\"Quantity Purchased\")\n",
    "plt.rc('figure',figsize=(20,5))"
   ]
  },
  {
   "cell_type": "markdown",
   "metadata": {},
   "source": [
    "______________________________________________________________________________________________________________________________"
   ]
  },
  {
   "cell_type": "markdown",
   "metadata": {},
   "source": [
    "### Investigating id 100006 (Jenn Im): Trading anomolies"
   ]
  },
  {
   "cell_type": "code",
   "execution_count": 12,
   "metadata": {},
   "outputs": [],
   "source": [
    "mon = pd.read_csv('3_months_trading.csv', sep=',', header='infer')\n",
    "mon = mon[mon.account_id == 100006]\n",
    "\n",
    "mon = mon.groupby(['stock_sector','transaction_type','account_id'])['total'].agg(['sum','count']).reset_index()\n",
    "mon.rename(columns={'sum':'total_sum', 'count':'num_purchases'}, inplace=True)\n",
    "mon = mon[mon.transaction_type==\"buy\"]"
   ]
  },
  {
   "cell_type": "markdown",
   "metadata": {},
   "source": [
    "* There doesn't seem to be any unusual purchases of different stock sectors within Jenn Im's 3 month trading history.        "
   ]
  },
  {
   "cell_type": "code",
   "execution_count": 13,
   "metadata": {
    "scrolled": true
   },
   "outputs": [
    {
     "data": {
      "image/png": "[encoded data removed]",
      "text/plain": [
       "<matplotlib.figure.Figure at 0x9017c88>"
      ]
     },
     "metadata": {},
     "output_type": "display_data"
    }
   ],
   "source": [
    "plt.bar(mon.stock_sector,mon.num_purchases, align='center')\n",
    "plt.title(\"Account ID: 100006 Purchases by Sector (last 3 months)\")\n",
    "plt.xlabel(\"Stock Sector\")\n",
    "plt.ylabel(\"Num of Purchases\")\n",
    "plt.rc('figure',figsize=(20,2))"
   ]
  },
  {
   "cell_type": "markdown",
   "metadata": {},
   "source": [
    "        \n",
    "### Investigating id 100006 (Jenn Im):  Accumulation of stock (high purchase quantity)\n",
    "\n",
    "* Because we observed no trading anomalies over the 3 month period, let's narrow into Jenn Im's trading behavior within 1 month of February 12.\n",
    "\n",
    "        "
   ]
  },
  {
   "cell_type": "code",
   "execution_count": 14,
   "metadata": {},
   "outputs": [],
   "source": [
    "mon = pd.read_csv('3_months_trading.csv', sep=',', header='infer')\n",
    "\n",
    "mon = mon[mon.account_id == 100006]\n",
    "mon = mon[mon.transaction_type==\"buy\"]\n",
    "mon = mon[(mon.date>'2018-01-11') & (mon.date<='2018-02-12')]\n",
    "\n",
    "mon = mon.groupby(['stock_symbol','account_id'])['quantity'].agg(['sum','count']).reset_index()\n",
    "mon.rename(columns={'sum':'quantity_sum', 'count':'num_purchases'}, inplace=True)"
   ]
  },
  {
   "cell_type": "markdown",
   "metadata": {},
   "source": [
    "\n",
    "* Jenn Im purchased a high quantity of SHOP.TO shares compared to other securities in the last month of trading. \n"
   ]
  },
  {
   "cell_type": "code",
   "execution_count": 15,
   "metadata": {
    "scrolled": false
   },
   "outputs": [
    {
     "data": {
      "image/png": "[encoded data removed]",
      "text/plain": [
       "<matplotlib.figure.Figure at 0x9b76c50>"
      ]
     },
     "metadata": {},
     "output_type": "display_data"
    }
   ],
   "source": [
    "plt.bar(mon.stock_symbol, mon.quantity_sum, align='center')\n",
    "plt.title(\"Account ID: 100006 Purchase Quantity by Stock Symbol (last 3 months)\")\n",
    "plt.xlabel(\"Stock Symbol\")\n",
    "plt.xticks(rotation=90)\n",
    "plt.ylabel(\"Quantity Purchased\")\n",
    "plt.rc('figure',figsize=(12,2))"
   ]
  },
  {
   "cell_type": "markdown",
   "metadata": {},
   "source": [
    "### Investigating id 100006 (Jenn Im): Frequent trade activity of inspected stock \n",
    "\n"
   ]
  },
  {
   "cell_type": "code",
   "execution_count": 16,
   "metadata": {},
   "outputs": [],
   "source": [
    "mon = pd.read_csv('3_months_trading.csv', sep=',', header='infer')\n",
    "\n",
    "mon = mon[mon.account_id == 100006]\n",
    "mon = mon[(mon.date>'2018-01-11') & (mon.date<='2018-02-12')]\n",
    "\n",
    "mon = mon.groupby(['stock_symbol','account_id'])['quantity'].agg(['sum','count']).reset_index()\n",
    "mon.rename(columns={'sum':'quantity_sum', 'count':'num_transactions'}, inplace=True)"
   ]
  },
  {
   "cell_type": "markdown",
   "metadata": {},
   "source": [
    "\n",
    "* Can see that the number of transactions for SHOP.TO is high compared to other securities. This indicates Jenn Im frequently traded SHOP.TO in the last month of trading. \n",
    "\n",
    "* This leads us to conclude that she accumulated a large quantity of shares over multiple purchases since she was frequently trading and purchased an overall large quantity of shares within the last month."
   ]
  },
  {
   "cell_type": "code",
   "execution_count": 17,
   "metadata": {
    "scrolled": true
   },
   "outputs": [
    {
     "data": {
      "image/png": "[encoded data removed]",
      "text/plain": [
       "<matplotlib.figure.Figure at 0x9b2ed30>"
      ]
     },
     "metadata": {},
     "output_type": "display_data"
    }
   ],
   "source": [
    "plt.bar(mon.stock_symbol, mon.num_transactions, align='center')\n",
    "plt.title(\"Account ID: 100006 Number of Transactions by Stock Symbol\")\n",
    "plt.xlabel(\"Stock Symbol\")\n",
    "plt.xticks(rotation=90)\n",
    "plt.ylabel(\"Number of Transactions\")\n",
    "plt.rc('figure',figsize=(12,2))"
   ]
  },
  {
   "cell_type": "markdown",
   "metadata": {},
   "source": [
    "### Investigating id 100006 (Jenn Im): Consecutive purchases\n",
    "\n",
    "* Can see that Jenn Im made 4 consecutive purchases of SHOP.TO without buying other stocks.\n",
    "\n",
    "*[Consecutive purchase = Purchasing SHOP.TO multiple times without purchasing any other stock inbetween]*"
   ]
  },
  {
   "cell_type": "code",
   "execution_count": 18,
   "metadata": {},
   "outputs": [
    {
     "data": {
      "text/html": [
       "<div>\n",
       "<style scoped>\n",
       "    .dataframe tbody tr th:only-of-type {\n",
       "        vertical-align: middle;\n",
       "    }\n",
       "\n",
       "    .dataframe tbody tr th {\n",
       "        vertical-align: top;\n",
       "    }\n",
       "\n",
       "    .dataframe thead th {\n",
       "        text-align: right;\n",
       "    }\n",
       "</style>\n",
       "<table border=\"1\" class=\"dataframe\">\n",
       "  <thead>\n",
       "    <tr style=\"text-align: right;\">\n",
       "      <th></th>\n",
       "      <th>date</th>\n",
       "      <th>account_id</th>\n",
       "      <th>first_name</th>\n",
       "      <th>last_name</th>\n",
       "      <th>country</th>\n",
       "      <th>state_province</th>\n",
       "      <th>city</th>\n",
       "      <th>stock_name</th>\n",
       "      <th>stock_symbol</th>\n",
       "      <th>stock_market</th>\n",
       "      <th>stock_sector</th>\n",
       "      <th>stock_industry</th>\n",
       "      <th>transaction_type</th>\n",
       "      <th>price</th>\n",
       "      <th>quantity</th>\n",
       "      <th>total</th>\n",
       "      <th>Pattern</th>\n",
       "    </tr>\n",
       "  </thead>\n",
       "  <tbody>\n",
       "    <tr>\n",
       "      <th>434</th>\n",
       "      <td>2018-01-31</td>\n",
       "      <td>100006</td>\n",
       "      <td>Jenn</td>\n",
       "      <td>Im</td>\n",
       "      <td>Canada</td>\n",
       "      <td>Quebec</td>\n",
       "      <td>Maniwaki</td>\n",
       "      <td>SHOPIFY INC (TSX)</td>\n",
       "      <td>SHOP.TO</td>\n",
       "      <td>TSX</td>\n",
       "      <td>Technology</td>\n",
       "      <td>Retail internet</td>\n",
       "      <td>buy</td>\n",
       "      <td>150.20</td>\n",
       "      <td>54</td>\n",
       "      <td>8110.8</td>\n",
       "      <td>1.0</td>\n",
       "    </tr>\n",
       "    <tr>\n",
       "      <th>442</th>\n",
       "      <td>2018-02-01</td>\n",
       "      <td>100006</td>\n",
       "      <td>Jenn</td>\n",
       "      <td>Im</td>\n",
       "      <td>Canada</td>\n",
       "      <td>Quebec</td>\n",
       "      <td>Maniwaki</td>\n",
       "      <td>SHOPIFY INC (TSX)</td>\n",
       "      <td>SHOP.TO</td>\n",
       "      <td>TSX</td>\n",
       "      <td>Technology</td>\n",
       "      <td>Retail internet</td>\n",
       "      <td>buy</td>\n",
       "      <td>156.27</td>\n",
       "      <td>70</td>\n",
       "      <td>10938.9</td>\n",
       "      <td>2.0</td>\n",
       "    </tr>\n",
       "    <tr>\n",
       "      <th>470</th>\n",
       "      <td>2018-02-06</td>\n",
       "      <td>100006</td>\n",
       "      <td>Jenn</td>\n",
       "      <td>Im</td>\n",
       "      <td>Canada</td>\n",
       "      <td>Quebec</td>\n",
       "      <td>Maniwaki</td>\n",
       "      <td>SHOPIFY INC (TSX)</td>\n",
       "      <td>SHOP.TO</td>\n",
       "      <td>TSX</td>\n",
       "      <td>Technology</td>\n",
       "      <td>Retail internet</td>\n",
       "      <td>buy</td>\n",
       "      <td>140.71</td>\n",
       "      <td>70</td>\n",
       "      <td>9849.7</td>\n",
       "      <td>3.0</td>\n",
       "    </tr>\n",
       "    <tr>\n",
       "      <th>478</th>\n",
       "      <td>2018-02-07</td>\n",
       "      <td>100006</td>\n",
       "      <td>Jenn</td>\n",
       "      <td>Im</td>\n",
       "      <td>Canada</td>\n",
       "      <td>Quebec</td>\n",
       "      <td>Maniwaki</td>\n",
       "      <td>SHOPIFY INC (TSX)</td>\n",
       "      <td>SHOP.TO</td>\n",
       "      <td>TSX</td>\n",
       "      <td>Technology</td>\n",
       "      <td>Retail internet</td>\n",
       "      <td>sell</td>\n",
       "      <td>157.85</td>\n",
       "      <td>10</td>\n",
       "      <td>1578.5</td>\n",
       "      <td>4.0</td>\n",
       "    </tr>\n",
       "  </tbody>\n",
       "</table>\n",
       "</div>"
      ],
      "text/plain": [
       "           date  account_id first_name last_name country state_province  \\\n",
       "434  2018-01-31      100006       Jenn        Im  Canada         Quebec   \n",
       "442  2018-02-01      100006       Jenn        Im  Canada         Quebec   \n",
       "470  2018-02-06      100006       Jenn        Im  Canada         Quebec   \n",
       "478  2018-02-07      100006       Jenn        Im  Canada         Quebec   \n",
       "\n",
       "         city         stock_name stock_symbol stock_market stock_sector  \\\n",
       "434  Maniwaki  SHOPIFY INC (TSX)      SHOP.TO          TSX   Technology   \n",
       "442  Maniwaki  SHOPIFY INC (TSX)      SHOP.TO          TSX   Technology   \n",
       "470  Maniwaki  SHOPIFY INC (TSX)      SHOP.TO          TSX   Technology   \n",
       "478  Maniwaki  SHOPIFY INC (TSX)      SHOP.TO          TSX   Technology   \n",
       "\n",
       "      stock_industry transaction_type   price  quantity    total  Pattern  \n",
       "434  Retail internet              buy  150.20        54   8110.8      1.0  \n",
       "442  Retail internet              buy  156.27        70  10938.9      2.0  \n",
       "470  Retail internet              buy  140.71        70   9849.7      3.0  \n",
       "478  Retail internet             sell  157.85        10   1578.5      4.0  "
      ]
     },
     "execution_count": 18,
     "metadata": {},
     "output_type": "execute_result"
    }
   ],
   "source": [
    "mon = pd.read_csv('3_months_trading.csv', sep=',', header='infer')\n",
    "mon = mon[mon.account_id == 100006]\n",
    "\n",
    "mon = mon[(mon.date>'2018-01-11') & (mon.date<='2018-02-12')]\n",
    "mon['Pattern'] =  pd.to_numeric(mon.groupby((mon.stock_symbol!=mon.stock_symbol.shift(-1)).cumsum()).cumcount())\n",
    "mon['Pattern'] = np.where(mon.Pattern.shift(1)!=0, mon.Pattern.shift()+1, mon.Pattern)\n",
    "mon['Pattern'] = np.where(np.isnan(mon.Pattern), 0, mon.Pattern)\n",
    "mon = mon[mon.Pattern!=0]\n",
    "    \n",
    "mon"
   ]
  },
  {
   "cell_type": "markdown",
   "metadata": {},
   "source": [
    "_________________________"
   ]
  },
  {
   "cell_type": "markdown",
   "metadata": {},
   "source": [
    "### Investigating id 101883 (Rowe Steenson): Trade frequency "
   ]
  },
  {
   "cell_type": "markdown",
   "metadata": {},
   "source": [
    "* Can see that Rowe Steenson only made **3 transactions** within the last 3 months."
   ]
  },
  {
   "cell_type": "code",
   "execution_count": 19,
   "metadata": {},
   "outputs": [
    {
     "data": {
      "text/plain": [
       "3"
      ]
     },
     "execution_count": 19,
     "metadata": {},
     "output_type": "execute_result"
    }
   ],
   "source": [
    "mon = pd.read_csv('3_months_trading.csv', sep=',', header='infer')\n",
    "mon = mon[mon.account_id == 100944]\n",
    "\n",
    "#Return number of records (transactions)\n",
    "len(mon.index)"
   ]
  },
  {
   "cell_type": "markdown",
   "metadata": {},
   "source": [
    "* Examining the 3 transactions, we can see that 2 of the 3 were relating to buying and selling SHOP.TO shares."
   ]
  },
  {
   "cell_type": "code",
   "execution_count": 20,
   "metadata": {},
   "outputs": [
    {
     "data": {
      "text/html": [
       "<div>\n",
       "<style scoped>\n",
       "    .dataframe tbody tr th:only-of-type {\n",
       "        vertical-align: middle;\n",
       "    }\n",
       "\n",
       "    .dataframe tbody tr th {\n",
       "        vertical-align: top;\n",
       "    }\n",
       "\n",
       "    .dataframe thead th {\n",
       "        text-align: right;\n",
       "    }\n",
       "</style>\n",
       "<table border=\"1\" class=\"dataframe\">\n",
       "  <thead>\n",
       "    <tr style=\"text-align: right;\">\n",
       "      <th></th>\n",
       "      <th>transaction_type</th>\n",
       "      <th>stock_symbol</th>\n",
       "      <th>account_id</th>\n",
       "      <th>total_sum</th>\n",
       "      <th>total_count</th>\n",
       "    </tr>\n",
       "  </thead>\n",
       "  <tbody>\n",
       "    <tr>\n",
       "      <th>0</th>\n",
       "      <td>buy</td>\n",
       "      <td>SHOP.TO</td>\n",
       "      <td>100944</td>\n",
       "      <td>14798.52</td>\n",
       "      <td>1</td>\n",
       "    </tr>\n",
       "    <tr>\n",
       "      <th>1</th>\n",
       "      <td>sell</td>\n",
       "      <td>DRRX</td>\n",
       "      <td>100944</td>\n",
       "      <td>559.80</td>\n",
       "      <td>1</td>\n",
       "    </tr>\n",
       "    <tr>\n",
       "      <th>2</th>\n",
       "      <td>sell</td>\n",
       "      <td>SHOP.TO</td>\n",
       "      <td>100944</td>\n",
       "      <td>15951.87</td>\n",
       "      <td>1</td>\n",
       "    </tr>\n",
       "  </tbody>\n",
       "</table>\n",
       "</div>"
      ],
      "text/plain": [
       "  transaction_type stock_symbol  account_id  total_sum  total_count\n",
       "0              buy      SHOP.TO      100944   14798.52            1\n",
       "1             sell         DRRX      100944     559.80            1\n",
       "2             sell      SHOP.TO      100944   15951.87            1"
      ]
     },
     "execution_count": 20,
     "metadata": {},
     "output_type": "execute_result"
    }
   ],
   "source": [
    "mon = mon.groupby(['transaction_type','stock_symbol','account_id',])['total'].agg(['sum','count']).reset_index()\n",
    "mon.rename(columns={'sum':'total_sum', 'count':'total_count'}, inplace=True)\n",
    "\n",
    "mon"
   ]
  },
  {
   "cell_type": "markdown",
   "metadata": {},
   "source": [
    "_________"
   ]
  },
  {
   "cell_type": "markdown",
   "metadata": {},
   "source": [
    "### Investigating id 101883 (Hannah Lee): Trading anomolies:\n"
   ]
  },
  {
   "cell_type": "code",
   "execution_count": 21,
   "metadata": {},
   "outputs": [],
   "source": [
    "mon = pd.read_csv('3_months_trading.csv', sep=',', header='infer')\n",
    "mon = mon[mon.account_id == 101883]\n",
    "\n",
    "mon = mon.groupby(['stock_sector','transaction_type','account_id'])['total'].agg(['sum','count']).reset_index()\n",
    "mon.rename(columns={'sum':'total_sum', 'count':'num_purchases'}, inplace=True)\n",
    "mon = mon[mon.transaction_type==\"buy\"]"
   ]
  },
  {
   "cell_type": "markdown",
   "metadata": {},
   "source": [
    "* There doesn't seem to be any unusual purchases of different stock sectors within Hannah Lee's 3 month trading history.     "
   ]
  },
  {
   "cell_type": "code",
   "execution_count": 22,
   "metadata": {},
   "outputs": [
    {
     "data": {
      "image/png": "[encoded data removed]",
      "text/plain": [
       "<matplotlib.figure.Figure at 0x9ae1fd0>"
      ]
     },
     "metadata": {},
     "output_type": "display_data"
    }
   ],
   "source": [
    "plt.bar(mon.stock_sector,mon.num_purchases, align='center')\n",
    "plt.title(\"Account ID: 101883 Purchases by Sector (last 3 months)\")\n",
    "plt.xlabel(\"Stock Sector\")\n",
    "plt.ylabel(\"Num of Purchases\")\n",
    "plt.rc('figure',figsize=(20,2))"
   ]
  },
  {
   "cell_type": "markdown",
   "metadata": {},
   "source": [
    "        \n",
    "### Investigating id 101883 (Hannah Lee):  Accumulation of stock (high purchase quantity)\n",
    "\n",
    "* Because we observed no trading anomalies over the 3 month period, let's narrow into Hannah Lee's trading behavior within 1 month of February 12.\n",
    "\n",
    "        "
   ]
  },
  {
   "cell_type": "code",
   "execution_count": 23,
   "metadata": {},
   "outputs": [],
   "source": [
    "mon = pd.read_csv('3_months_trading.csv', sep=',', header='infer')\n",
    "\n",
    "mon = mon[mon.account_id == 101883]\n",
    "mon = mon[mon.transaction_type==\"buy\"]\n",
    "mon = mon[(mon.date>'2018-01-11') & (mon.date<='2018-02-12')]\n",
    "\n",
    "mon = mon.groupby(['stock_symbol','account_id'])['quantity'].agg(['sum','count']).reset_index()\n",
    "mon.rename(columns={'sum':'quantity_sum', 'count':'num_purchases'}, inplace=True)"
   ]
  },
  {
   "cell_type": "markdown",
   "metadata": {},
   "source": [
    "* Doesn't seem that Hannah Lee purchased a high quantity of SHOP.TO shares compared to other securities in the last month of trading.\n"
   ]
  },
  {
   "cell_type": "code",
   "execution_count": 24,
   "metadata": {
    "scrolled": true
   },
   "outputs": [
    {
     "data": {
      "image/png": "[encoded data removed]",
      "text/plain": [
       "<matplotlib.figure.Figure at 0x9072780>"
      ]
     },
     "metadata": {},
     "output_type": "display_data"
    }
   ],
   "source": [
    "plt.bar(mon.stock_symbol, mon.quantity_sum, align='center')\n",
    "plt.title(\"Account ID: 101883 Purchase Quantity by Stock Symbol (last 3 months)\")\n",
    "plt.xlabel(\"Stock Symbol\")\n",
    "plt.xticks(rotation=90)\n",
    "plt.ylabel(\"Quantity Purchased\")\n",
    "plt.rc('figure',figsize=(12,2))"
   ]
  },
  {
   "cell_type": "markdown",
   "metadata": {},
   "source": [
    "### Investigating id 101883 (Hannah Lee): Frequent trade activity of inspected stock \n",
    "\n"
   ]
  },
  {
   "cell_type": "code",
   "execution_count": 25,
   "metadata": {},
   "outputs": [],
   "source": [
    "mon = pd.read_csv('3_months_trading.csv', sep=',', header='infer')\n",
    "\n",
    "mon = mon[mon.account_id == 101883]\n",
    "\n",
    "mon = mon[(mon.date>'2018-01-11') & (mon.date<='2018-02-12')]\n",
    "mon = mon.groupby(['stock_symbol','account_id'])['quantity'].agg(['sum','count']).reset_index()\n",
    "mon.rename(columns={'sum':'quantity_sum', 'count':'num_transactions'}, inplace=True)"
   ]
  },
  {
   "cell_type": "markdown",
   "metadata": {},
   "source": [
    "* Doesn't seem that Hannah Lee had higher than usual trade activity on SHOP.TO in the last month of trading."
   ]
  },
  {
   "cell_type": "code",
   "execution_count": 26,
   "metadata": {
    "scrolled": true
   },
   "outputs": [
    {
     "data": {
      "image/png": "[encoded data removed]",
      "text/plain": [
       "<matplotlib.figure.Figure at 0x94c7a20>"
      ]
     },
     "metadata": {},
     "output_type": "display_data"
    }
   ],
   "source": [
    "plt.bar(mon.stock_symbol, mon.num_transactions, align='center')\n",
    "plt.title(\"Account ID: 101883 Number of Transactions by Stock Symbol\")\n",
    "plt.xlabel(\"Stock Symbol\")\n",
    "plt.xticks(rotation=90)\n",
    "plt.ylabel(\"Number of Transactions\")\n",
    "plt.rc('figure',figsize=(12,2))"
   ]
  },
  {
   "cell_type": "markdown",
   "metadata": {},
   "source": [
    "____________\n",
    "## Overview\n",
    "\n",
    "**Zachary Scuderi:** Should be investigated due to unusual trading activity in a different stock sector\n",
    "\n",
    "* Only invested in one Technology Sector stock (SHOP.TO) in the last three months of trading\n",
    "* Purchased a high quantity of SHOP.TO shares compared to other securities within the last three months of trading\n",
    "\n",
    "**Jenn Im:** Should be investigated due to frequent trading activity of SHOP.TO and purchase of a large quantity of SHOP.TO shares in a short period of time, as well as consecutive purchases of SHOP.TO. \n",
    "* Didn't discover any unusual trading anomoalies\n",
    "* Purchased a high quantity of SHOP.TO shares compared to other stocks in the last month of trading\n",
    "* Frequent trading activity for SHOP.TO compared to other stocks in the last month of trading\n",
    "* Made 4 consecutive purchases of SHOP.TO without buying other stocks inbetween of trading\n",
    "\n",
    "**Rowe Steenson:** Should be investigated due to SHOP.TO trading activity on a relatively dormant account\n",
    "* Only made 3 transactions in the last 3 months of trading\n",
    "    * 2 of the three transactions were buying and selling SHOP.TO shares\n",
    "\n",
    "**Hannah Lee:** No evidence of needing to investigate\n",
    "* Didn't discover any unusual trading anomalies \n",
    "* Didn't purchase an unusual quantity of SHOP.TO shares in the last month of trading\n",
    "* Usual trading activity for SHOP.TO compared to other stocks in the last month of trading\n",
    "\n",
    "\n",
    "\n"
   ]
  },
  {
   "cell_type": "markdown",
   "metadata": {},
   "source": [
    "____________________"
   ]
  },
  {
   "cell_type": "markdown",
   "metadata": {},
   "source": [
    "______________"
   ]
  },
  {
   "cell_type": "markdown",
   "metadata": {},
   "source": [
    "_______________"
   ]
  },
  {
   "cell_type": "markdown",
   "metadata": {},
   "source": [
    "# Phase 2\n",
    "\n",
    "Investigating suspicious traders against related names of Shopify Inc.\n",
    "\n",
    "**Traders to Investigate:**\n",
    "1. Zachary Scuderi\n",
    "2. Jenn Im\n",
    "3. Rowe Steenson"
   ]
  },
  {
   "cell_type": "markdown",
   "metadata": {},
   "source": [
    "## PART 1: Cross check account names against SEDI filing for related names\n",
    "\n",
    "__________________"
   ]
  },
  {
   "cell_type": "markdown",
   "metadata": {},
   "source": [
    "### Shopify SEDI registered names\n",
    "\n",
    "* Can see that our investigated names are not on the SEDI list. (We could confirm this on a large scale with an inner join of the two list of names). With data on the insider's relatives, we could cross check against those names as well.  "
   ]
  },
  {
   "cell_type": "code",
   "execution_count": 27,
   "metadata": {},
   "outputs": [
    {
     "data": {
      "text/html": [
       "<div>\n",
       "<style scoped>\n",
       "    .dataframe tbody tr th:only-of-type {\n",
       "        vertical-align: middle;\n",
       "    }\n",
       "\n",
       "    .dataframe tbody tr th {\n",
       "        vertical-align: top;\n",
       "    }\n",
       "\n",
       "    .dataframe thead th {\n",
       "        text-align: right;\n",
       "    }\n",
       "</style>\n",
       "<table border=\"1\" class=\"dataframe\">\n",
       "  <thead>\n",
       "    <tr style=\"text-align: right;\">\n",
       "      <th></th>\n",
       "      <th>Insider Name</th>\n",
       "    </tr>\n",
       "  </thead>\n",
       "  <tbody>\n",
       "    <tr>\n",
       "      <th>0</th>\n",
       "      <td>Robert Gerard Ashe</td>\n",
       "    </tr>\n",
       "    <tr>\n",
       "      <th>1</th>\n",
       "      <td>Steven Alan Collins</td>\n",
       "    </tr>\n",
       "    <tr>\n",
       "      <th>2</th>\n",
       "      <td>Harley Michael Finkelstein</td>\n",
       "    </tr>\n",
       "    <tr>\n",
       "      <th>3</th>\n",
       "      <td>Brittany Jean Forsyth</td>\n",
       "    </tr>\n",
       "    <tr>\n",
       "      <th>4</th>\n",
       "      <td>Joseph Andrew Frasca</td>\n",
       "    </tr>\n",
       "    <tr>\n",
       "      <th>5</th>\n",
       "      <td>Gail Faye Goodman</td>\n",
       "    </tr>\n",
       "    <tr>\n",
       "      <th>6</th>\n",
       "      <td>Russell Norman Jones</td>\n",
       "    </tr>\n",
       "    <tr>\n",
       "      <th>7</th>\n",
       "      <td>Jean-Michel Lemieux</td>\n",
       "    </tr>\n",
       "    <tr>\n",
       "      <th>8</th>\n",
       "      <td>David William Lennie</td>\n",
       "    </tr>\n",
       "    <tr>\n",
       "      <th>9</th>\n",
       "      <td>Jeremy Seth Levine</td>\n",
       "    </tr>\n",
       "    <tr>\n",
       "      <th>10</th>\n",
       "      <td>Tobias Albin Lutke</td>\n",
       "    </tr>\n",
       "    <tr>\n",
       "      <th>11</th>\n",
       "      <td>Craig Stuart Miller</td>\n",
       "    </tr>\n",
       "    <tr>\n",
       "      <th>12</th>\n",
       "      <td>John Phillips</td>\n",
       "    </tr>\n",
       "    <tr>\n",
       "      <th>13</th>\n",
       "      <td>Peter Daniel Weinard</td>\n",
       "    </tr>\n",
       "  </tbody>\n",
       "</table>\n",
       "</div>"
      ],
      "text/plain": [
       "                  Insider Name\n",
       "0           Robert Gerard Ashe\n",
       "1          Steven Alan Collins\n",
       "2   Harley Michael Finkelstein\n",
       "3        Brittany Jean Forsyth\n",
       "4         Joseph Andrew Frasca\n",
       "5            Gail Faye Goodman\n",
       "6         Russell Norman Jones\n",
       "7          Jean-Michel Lemieux\n",
       "8         David William Lennie\n",
       "9           Jeremy Seth Levine\n",
       "10          Tobias Albin Lutke\n",
       "11         Craig Stuart Miller\n",
       "12               John Phillips\n",
       "13        Peter Daniel Weinard"
      ]
     },
     "execution_count": 27,
     "metadata": {},
     "output_type": "execute_result"
    }
   ],
   "source": [
    "import pandas as pd\n",
    "sedi = pd.read_excel(\"SEDI names.xlsx\")\n",
    "sedi"
   ]
  },
  {
   "cell_type": "markdown",
   "metadata": {},
   "source": [
    "## PART 2: Cross check account names against SEDI social media accounts\n",
    "*LinkedIn and Twitter*"
   ]
  },
  {
   "cell_type": "markdown",
   "metadata": {},
   "source": [
    "### LinkedIn API\n",
    "\n",
    "I started by attempting to pull LinkedIn API with the code below, but I found that I was only allowed to pull my own profile data. After doing some further research, I learned that LinkedIn restricted their open API in May 2015 so that users can only:\n",
    "* Represent their own professional identity\n",
    "* Post certifications directly to their profile\n",
    "* Share professional content \n",
    "\n",
    "All other APIs would require developers to become a part of the LinekdIn partnership program.\n",
    "\n",
    "[Click here for more information](https://developer.linkedin.com/blog/posts/2015/developer-program-changes)"
   ]
  },
  {
   "cell_type": "code",
   "execution_count": 28,
   "metadata": {},
   "outputs": [
    {
     "ename": "AttributeError",
     "evalue": "module 'linkedin' has no attribute 'LinkedInAuthentication'",
     "output_type": "error",
     "traceback": [
      "\u001b[1;31m---------------------------------------------------------------------------\u001b[0m",
      "\u001b[1;31mAttributeError\u001b[0m                            Traceback (most recent call last)",
      "\u001b[1;32m<ipython-input-28-bc4c0755bd2b>\u001b[0m in \u001b[0;36m<module>\u001b[1;34m()\u001b[0m\n\u001b[0;32m      1\u001b[0m \u001b[1;31m# libraries\u001b[0m\u001b[1;33m\u001b[0m\u001b[1;33m\u001b[0m\u001b[0m\n\u001b[1;32m----> 2\u001b[1;33m \u001b[1;32mimport\u001b[0m \u001b[0mlinkedin\u001b[0m\u001b[1;33m\u001b[0m\u001b[0m\n\u001b[0m\u001b[0;32m      3\u001b[0m \u001b[1;32mfrom\u001b[0m \u001b[0mlinkedin\u001b[0m \u001b[1;32mimport\u001b[0m \u001b[0mlinkedin\u001b[0m\u001b[1;33m\u001b[0m\u001b[0m\n\u001b[0;32m      4\u001b[0m \u001b[1;33m\u001b[0m\u001b[0m\n\u001b[0;32m      5\u001b[0m \u001b[1;31m# API access codes\u001b[0m\u001b[1;33m\u001b[0m\u001b[1;33m\u001b[0m\u001b[0m\n",
      "\u001b[1;32m~\\Juptyr Projects\\linkedin.py\u001b[0m in \u001b[0;36m<module>\u001b[1;34m()\u001b[0m\n\u001b[0;32m     16\u001b[0m \u001b[1;33m\u001b[0m\u001b[0m\n\u001b[0;32m     17\u001b[0m \u001b[1;33m\u001b[0m\u001b[0m\n\u001b[1;32m---> 18\u001b[1;33m \u001b[0mauthentication\u001b[0m \u001b[1;33m=\u001b[0m \u001b[0mlinkedin\u001b[0m\u001b[1;33m.\u001b[0m\u001b[0mLinkedInAuthentication\u001b[0m\u001b[1;33m(\u001b[0m\u001b[0mAPI_KEY\u001b[0m\u001b[1;33m,\u001b[0m \u001b[0mAPI_SECRET\u001b[0m\u001b[1;33m,\u001b[0m \u001b[0mRETURN_URL\u001b[0m\u001b[1;33m)\u001b[0m\u001b[1;33m\u001b[0m\u001b[0m\n\u001b[0m\u001b[0;32m     19\u001b[0m \u001b[0mprint\u001b[0m \u001b[1;33m(\u001b[0m\u001b[0mauthentication\u001b[0m\u001b[1;33m.\u001b[0m\u001b[0mauthorization_url\u001b[0m\u001b[1;33m)\u001b[0m\u001b[1;33m\u001b[0m\u001b[0m\n\u001b[0;32m     20\u001b[0m \u001b[0mapplication\u001b[0m \u001b[1;33m=\u001b[0m \u001b[0mlinkedin\u001b[0m\u001b[1;33m.\u001b[0m\u001b[0mLinkedInApplication\u001b[0m\u001b[1;33m(\u001b[0m\u001b[0mauthentication\u001b[0m\u001b[1;33m)\u001b[0m\u001b[1;33m\u001b[0m\u001b[0m\n",
      "\u001b[1;31mAttributeError\u001b[0m: module 'linkedin' has no attribute 'LinkedInAuthentication'"
     ]
    }
   ],
   "source": [
    "# libraries\n",
    "import linkedin\n",
    "from linkedin import linkedin\n",
    "\n",
    "# API access codes\n",
    "API_KEY = \"77isv628eoepgy\"\n",
    "API_SECRET = \"mtU1xct8oxVaJT3v\"\n",
    "RETURN_URL = \"https://localhost:80\"\n",
    "\n",
    "# get authentication code\n",
    "authentication = linkedin.LinkedInAuthentication(API_KEY, API_SECRET, RETURN_URL)\n",
    "print (authentication.authorization_url)\n",
    "application = linkedin.LinkedInApplication(authentication) #copy and paste the link into a browser\n",
    "\n",
    "# Find the code in the configured link ---- http://localhost:80/?code=xxxxxxxxxxxxxxxxxxxxxxxxx&state=xxxxxxxxxxxxxxxxxx\n",
    "# NOTE: this authentication code will time out\n",
    "authentication.authorization_code=\"AQQj-lLGwlCXhm5b-VI1ymMe7FU7M_HTEq7SS-RuJqbH3NOVnY_D-aC4czhSS_9ufhQ9BYZc9FWNSUyycGhlPQS-VMqTEpJihGCvmfGl4Y747W2z080cs5OUjFlsDJEkS-TWmL76QaeVHKNLQZqURxf9SSjeSw\"\n",
    "\n",
    "# Get the access token\n",
    "# NOTE: This will need to be redone when the authentication code times out\n",
    "authentication.get_access_token()\n",
    "\n",
    "application = linkedin.LinkedInApplication(token=\"AQVq6XXrWG_YwvP_zqnaMF8b569PDP--LLZXbSWlMHOXyQ57i0tn0GoU6ooiJMx-0Icns_bulhCbUH2OjB2QzxfQymA_vRTftNT59joNCMftFgii2P133KL7C4xPiEYFyFfqtZqUm8rw9q2G3--OLoJcikdHNoXaIOyMZEoRVhWY-jaWbpKYPV59iSadWa9mf37-qSo1SkzL6NykiR7vbO8SUjQUiQ8t1tkdgnQuwgQU0_jJMBrhtrYu7xyTtgSspD0n-wB2kV1rzJjx2CZedzhqIffGUc_N6dXUI1XdZubnLbjKvcUGSFmRWQRCW5h-poWHNLZYz4SMtIYhWcWHAvnYAo-AAQ\")\n",
    "\n",
    "############ Information that call be pulled \n",
    "\n",
    "#Get the connected account's profile summary and list of connections\n",
    "application.get_profile\n",
    "application.get_connections\n",
    "\n",
    "# Search for people/company based on implemented parameters\n",
    "application.search_profile\n",
    "application.search_company\n",
    "\n",
    "#Display company profile based on a name or an id\n",
    "application.search_companies(company_ids=[1035])\n",
    "\n",
    "# Search across LinkedIn's job postings\n",
    "application.search_job\n",
    "\n",
    "# Read and interact with LinkedIn's groups functionality\n",
    "application.get_group\n",
    "\n",
    "\n"
   ]
  },
  {
   "cell_type": "markdown",
   "metadata": {},
   "source": [
    "### Twitter API\n",
    "\n",
    "**Logic:**\n",
    "1. Pull list of twitter handles SEDI name is following\n",
    "2. Pull list of twitter handles investigated account is following\n",
    "3. Check if they follow each other\n",
    "4. Check if they follow similar people to see if they have similar social circles\n",
    "\n",
    "Let's investigate Brittany Forsyth who is the SVP of HR for Shopify.\n",
    "Link to her twitter: [@BritForsyth](https://twitter.com/BritForsyth)\n",
    "\n",
    "Because Jenn Im is a fashion blogger and Shopify is an e-commerce store, we'll investigate her first. Link to her twitter: [@imjennim](https://twitter.com/imjennim)\n"
   ]
  },
  {
   "cell_type": "code",
   "execution_count": 35,
   "metadata": {},
   "outputs": [],
   "source": [
    "import tweepy\n",
    "import time\n",
    "\n",
    "\n",
    "access_token = \"962768029691064320-k1DN34VcIcpqfEQRH05OLdq6KykyhAo\"\n",
    "access_secret = \"fi7WlGHYsDrEspnUpLsJPcuooyjzgBIrHmHn4G0huiqdZ\"\n",
    "consumer_key = \"G5PBC3UO0NeH6q8Vka9jYJhQT\"\n",
    "consumer_secret = \"K2di3c8Vvj1jzufbOSduV4xmhjQbSNP4FLixcGMdKVhZ562dUv\"\n",
    "twitter_handle = 'hnnahrl'\n",
    "\n",
    "auth = tweepy.auth.OAuthHandler(consumer_key, consumer_secret)\n",
    "auth.set_access_token(access_token, access_secret)\n",
    "api = tweepy.API(auth)\n",
    "\n",
    "def handle_errors(cursor):\n",
    "    while True:\n",
    "        try:\n",
    "            yield cursor.next()\n",
    "        except tweepy.TweepError:\n",
    "            time.sleep(20*60)"
   ]
  },
  {
   "cell_type": "code",
   "execution_count": 36,
   "metadata": {},
   "outputs": [
    {
     "name": "stdout",
     "output_type": "stream",
     "text": [
      "['lilliankate', 'JustinTrudeau', 'StoneSeguin', 'DanielleMorrill', 'AndyOliverWpg', 'pattymccord1', 'jmwind', 'CTVNews', 'HuffPostCanada', 'Medium', 'dylanjhunt', 'gmalette', 'TaylorSicard', 'haeky', 'the_angelini', 'liznlbee', 'Ewa_Johnson', 'solmaz_sh', 'klassend', 'Gregologynet', 'bookelly_', 'kmcphillips', 'pushrax', 'cseal', 'frenchshawn', 'kmacdon3', 'alistair_lane', 'dontqq', 'JSPLives', 'thefoner', 'gnufmuffin', 'unixcharles', 'rbizla', 'annettekoz', 'arprevot', 'kevinhughes27', 'dpisaacs', 'pseudomuto', 'neil_costford', 'mvgrootel', 'speezyD', 'origamoh', 'Cmrn_DP', 'jordansaxe', 'ilialarionov', 'monsika', '_hnkhan', 'Sirupsen', 'cshold', 'evandinsmore', 'luccast85', '_GABRIELOC', 'CourtneySymons', 'tranhelen', 'supervee', 'arthurnn', '_afshin', 'RelatableQuote', 'Cotsy8', 'ottawacity', 'kirstinestewart', 'n_e_evans', 'strombo', 'iamjll', 'c3po1988', 'cjoudrey', 'the_bigunit22', 'SeinfeldToday', 'jmorel22', 'scottica', 'RichardLBlair', 'luclevesque', 'dtKinger', 'robyn__lynn', 'andrewdunbar', 'TimAtShopify', 'danielpatricio', 'gavinsmith', 'ottawamagician', 'ThePeteD', 'jayjayjens13', 'jeremylockett19', 'jenjarvis', 'BarackObama', 'trvrhnry', 'PaulTibs', 'itsryan', 'DavHen', '_alexcoco', 'richgilbank', 'BrunoRDB', 'CarolynnLacasse', 'RachaelBoersma', 'Senators', 'blakemesdag', 'ErikFaucon', 'cgarceau13', 'KierstenHanly', 'Medzy11', 'CameronPassmore', 'Russell_Baylis', 'StrategyJack', 'CamGregg', 'roquesolid1', 'jamesmay021', 'andrewdraper', 'tyro89', 'cheryldraper', 'aratisharma', 'ishafyi', 'drupeek', 'verneho', 'nicecobra', 'Huntsvillechick', 'skanwar', 'woodifred', 'vernalkick', 'JimWatsonOttawa', 'aprofeit', 'Lovett76', '_kevin_james', 'ziebell03', 'mattbertschi', 'lalondemark', 'LaurBBrown', 'bani', 'MattBMillar', 'Heal', 'Modern_Hostess', 'caseywhalen', 'abecciu', '_KyleaParker', 'MarcieCMurray', 'mark_macdonald', 'DiverseCauses', 'michaelcleyn', 'georgeg', 'JonnyCanucks', 'chelsieliddle', 'fw1729', 'snormore', 'Actinolite', 'samuelkadolph', 'tahnok', 'mayashoucair', 'jnormore', 'ShopifyDevs', 'SingerWang', 'lynseythornton', 'rahworks', 'peterjm', 'floriidaaa', 'jules2689', 'TamaraSolomon', 'louis_kearns', 'theaearl', 'kxlolson', 'FionaMcK', 'orenmazor', 'lg', 'gauravmc', 'Bigsweet', 'funionnn', 'jenbeldam', 'G3iSHA420', 'snookca', 'keirwhitaker', 'chris_saunders', 'terraflubb', 'alexbakus', 'sadie_lady', 'thecatmelon', 'daverooneyca', 'j_mutta', 'HsuStacey', 'HR_Said_What', 'MattWiebe2', 'ibkajila', 'burkelibbey', 'smcchoi', 'maysaurus', 'jamesmacaulay', 'cinnamonsam', 'The_JayCee', 'konval', 'mrcwilso', 'BradLeclerc', 'Bacchus', 'camilolopez', 'LucasHarding', 'startupcfo', 'dale_neufeld', 'BarnyardBoyer', 'gregwburke', 'davidseal', 'blairbeckwith', 'omen514', 'Oprah', 'paulpritchard', 'benfscheme', 'allangodding', 'aSadhankar', 'carson_', 'lianamkay', 'RChrisHarding', 'joshuatessier', 'gfoster', 'tariqzaid', 'benjamin_doyle', 'adambecevello', 'garethduplooy', 'technotronium', 'IanCalcutt', 'kristinamaria', 'RachL4syth', 'adammcnamara', 'RebeccaGrant098', 'jennifermcinnis', 'johnduff', 'MrsK4syth', 'DanJEveleigh', 'craigmillr', 'kristianpd', 'Coleman811', 'ClaireAForsyth', 'joshgosse', 'dylanblanchard', 'r_robertson', 'gbeldam', 'matthelm', 'DougTetzner', 'forsythranch', 'healingginger', 'soleone', 'pushmatrix', 'coredump', 'carolineschnapp', 'jkaunisv', 'EvolutionDesign', 'lindsaysels', 'lbloombergg', 'lauralmah', 'tsimms88', 'IKEACanada', 'lauramcquinn', 'Post_Concussion', 'chrislobay', 'RobCarle87', 'harrybrundage', 'LizzyMac', 'wisqnet', 'KLrochon', 'alkerton', 'ben_watts', 'davefp', 'alambzz', 'denisodorcic', 'Baymard', 'bloh', 'sumitsekhri', 'titanous', 'MatPaciga', 'snoble', 'themikefreeman', 'ssoroka', 'AccordionGuy', 'acomms', 'allsop8184', 'cusec', 'peteforde', 'nickjsiii', 'jesselung', 'KBiller', 'mndmatt', 'wvanbergen', 'jaw6', 'KevinDee300', 'brad4syth', 'Bruton', 'TwitPic', 'shitmydadsays', 'Zappos_Hsieh', 'Japman_Bajaj', 'jstorimer', 'dimitrionistsuk', 'ryanlanglois', 'codyfauser', 'mikerochon', 'johntajima', 't3tchi', 'jeremycochrane', 'warren', 'danielweinand', 'markdunkley', 'nobert', 'edwardog', 'juliehache', 'Shopify', 'harleyf', 'tobi', 'aleftick', 'serenangai', 'tnguyen22', 'b4syth']\n"
     ]
    },
    {
     "name": "stderr",
     "output_type": "stream",
     "text": [
      "C:\\Users\\Hannah\\Anaconda3\\lib\\site-packages\\ipykernel_launcher.py:5: DeprecationWarning: generator 'handle_errors' raised StopIteration\n",
      "  \"\"\"\n"
     ]
    }
   ],
   "source": [
    "# List of twitter handles that Brittany Forsyth is following\n",
    "\n",
    "BritForsyth=[]\n",
    "\n",
    "for user in handle_errors(tweepy.Cursor(api.friends, screen_name = 'BritForsyth', count=200).items()):\n",
    "    BritForsyth.append(str(user.screen_name))\n",
    "\n",
    "print (BritForsyth)"
   ]
  },
  {
   "cell_type": "code",
   "execution_count": 37,
   "metadata": {
    "scrolled": true
   },
   "outputs": [
    {
     "name": "stdout",
     "output_type": "stream",
     "text": [
      "['REGINAFANG', 'itsdiegolucas', 'chloekimsnow', 'itshafu', 'conangray', 'Oprah', 'OLDPodcast', 'PhillyD', 'julialingk', 'sweaterbeats', 'elonmusk', 'simply_sona', 'Laura88Lee', 'IssaRae', 'ingridnilsen', 'BernieSanders', 'JoeBiden', 'NikkieTutorials', 'VanessaMerrell', 'veronicamerrell', 'kkimthai', 'whattheHELLZ', 'missswendyle', 'barbiegutzz', 'ZenaAD', 'cxchoi', 'eggieshop', 'yaknowme_hitomi', 'Nikita_Dragun', 'Liyah0329', 'imdrewscott', 'JamesJeanArt', 'imalyssalau', 'leahlalich', 'AndersonPaak', 'xolomusic', 'AdelaineMorin', 'jamescharles', 'jackieaina', 'TarMarz', 'SPIRITHUEL', 'Lmao', 'manilakilla', 'stevenkwlim', 'sierra_furtado', 'kandeejohnson', 'rachel_martino', 'sokoglam', '_thecandyrain', 'my_belonging', 'TheFunnyTeens', 'christinechen4', 'kickiyangz', 'lifeaseva', 'MegsDeAngelis', 'CydBee', 'nataliesoutlet', 'MISStiffanyMA', 'goyamamusic', 'riccipamintuan', 'CassieMasangkay', 'Sofasound', 'CHRISELLEtweets', 'LindseyHughes', 'jenny_mustard', 'sherrifah', 'Mejuri', 'JoslynDavis', 'SenSanders', 'localwolves', 'meejmuse', 'theneedledrop', 'PoemsPorn', 'MamaMiaMakeup', 'christendtweets', 'imjennimph', 'ryanbyryanchua', 'missremiashten', 'Rtranphoto', 'wearetothe9s', 'rare_global', 'AlexWassabi', 'foodwithmichel', 'davidsocomedy', 'This_girlslife', 'whoisaaronlau', 'AnnaAkana', 'yummiebitez', 'HEARTDEFENSOR', 'xoShaaan', 'Bludshot', 'Wahfied', 'themilkclub', 'AaronRhodes', 'tesschristine', 'ALISHAMARIE', 'jessimalay', 'cathbelle1', 'realAlexCentomo', 'chrissstttiiine', 'hello_october_', 'TheAnnaEdit', 'AmeliaLiana_', 'jamiiifox', 'BenefitBeauty', 'AIMEESONG', 'JohnPanichella', 'bubzbeauty', 'TewwyHawn', 'MakeupbyMandy24', 'aJaDaNg', 'tomngo422', 'amyvagabondd', 'theouai', 'paudictado', 'BrendaSong', '0smoji', 'Bohkeh', 'hellosylviaa', 'heyitsnun', 'Smashbox', 'kaemi__', 'zoelondondj', 'LupesujeyCuevas', '_graciaaaaaa', 'grumbs', 'ColourPopCo', 'CarlyRowena', 'DoveCameron', 'TwoDollarRadio', 'ohmymuu', 'givemechu', 'tweet_theflock', 'Missjackychui', 'JEANCLAUDETRIBE', 'loubot', 'The_Kooples', 'MedievalReacts', 'ditaeyewear', 'aaronkkai', 'RelatableQuote', 'inthefrow', 'pakalupapito', 'wengie', 'sophiaamoruso', 'RuPaul', 'ardenrose', 'catrific', 'girlposts', 'hollyannaeree', '_harukimurakami', 'maxreist', 'RAEview', 'flamcis', 'ellenvlora', 'tavitulle', 'ChelseaWears', 'madisonpaige7', 'eatyourkimchi', 'zoewithazed', 'Linh_Winn', 'Blue_Satellite', 'arden_cho', 'WeArePolished', 'Dory', 'maya_nilsen', 'JuliaaDang', 'teflonunicorn', 'seriouslyhallie', 'KalelKitten', 'vannganguyen', 'Mstr_disguise', 'leannelimwalker', 'himarycake', 'TeniPanosian', 'seth804', 'emma_pickles', 'eatatpot', 'bryanboy', 'MavSlade', 'JayBanzia', 'ssoyunum', 'liljennlee', 'sasakiasahi', 'ashleyrachel', 'helloneet', 'cheerupclothing', 'chloe_ting', 'itsmelvv', 'laureenmuy', 'jacvanek', 'YoungGunsUK', 'ajRAFAEL', 'LisaKastleen', 'littleblckboots', 'PrettySickly', 'Truman_Black', 'SophieEggleton', 'Gustav_Wood', 'sisavedlatin', 'sWooZ1e', 'FraserLaser', 'MeghanHughes', 'J0EKAY', 'sosupersam', 'lolitabandita', 'lilypebbles', 'TimothyDeLaG', 'SunKissAlba', 'JCcoccoli', 'HelloImLana', 'ArikaSato', 'laurDIY', 'chalestay', 'TanyaBurr', 'heyyy_june', 'thatschic', 'ItsMyRayeRaye', 'stylesuzi', 'biancavenerayan', 'Indiaa24', 'shewearsfashion', 'sarahmhawkinson', 'quayaustralia', 'bengunsuk', 'mrkatedotcom', 'NikkiPhillippi', 'meewgumi', 'Kathleencarla', 'MissMelodyyy', 'carmenmariah', 'wendynguyen', 'kateogata', 'nickyottav', 'sunbeamsjess', 'joankeem', 'Thynative', 'iamstrangehead', 'letitiakiu', 'moonmask_', 'feralcreature', 'jamesjoohyunlee', 'shoplouiseandco', 'erikabowes', 'rekstizzy', 'pixiemarketNYC', 'shirleybeniang', 'danielbressette', 'Ahnnu', 'boenyeah', 'Lisa_Eldridge', 'BrintonMegan', 'cjbxz', 'giraffage', 'ericnamofficial', 'AnnLeStyle', 'blogilates', 'sistasoothing', 'callmecourt', 'LaMadelynn', 'dumbfoundead', 'PattyOLovesU', 'KARISSAPUKAS', 'SophiaChang', 'iamkareno', 'Beautifymeeh', 'xoxobengreen', 'callmeweylie', 'mayasworld', 'frmheadtotoe', 'AmiYamato', 'markredito', 'MarziaPie', 'hikristofferson', 'iamsodapop', 'kastorandpollux', 'sugarandfluff', 'daniesque', 'ThePlatformYT', 'MTV_FORA', 'annaleefiorino', 'sewanhaka', 'dexbonus', 'WeAreKoshka', 'sos0', 'MotelRocks', 'shopwasteland', 'jessefff', 'RickyRichardstv', 'pollo_princess', 'joellenlovee', 'EdisonGiang', 'befecake', 'jinnajuice', 'TheIlluminati', 'heyclaire', 'kristengracelam', 'cheungkyy', 'HeartbreakHanna', 'weirddough', 'emilyryeyou', 'JeanGreige', 'fashion_seoul', 'duncantrussell', 'KarenJenniferLi', 'fashion_citizen', 'ShanMay_', 'Colleen_Beezy', 'rhiannonashlee', 'FashionFilth', 'AFRICANEXPORT', 'grav3yardgirl', 'barbarapbabe', 'samanthamaria', 'StephenAtHome', 'meshellelaine_', 'iamamypham', 'EsteeLalonde', 'LipsSoFacto', 'LaurenRoseYT', 'mishlopez_', '_astronautica', 'breannually', 'NiaSays1', 'AndreasChoice', 'avalonnehall', 'Lord_Voldemort7', 'Anele_Brand', 'ericwareheim', 'PugBundy', 'amateurdisaster', 'joeleellive', 'sarahchacha', 'abcdefgenn', 'erikamissey', 'VeevusChrist', 'TestiCulture', 'marklerdy', 'kelleysparkles', 'marielleloreto', 'bekkajc', 'amoebamusic', 'stefanabingdon', 'jyk595']\n"
     ]
    },
    {
     "name": "stderr",
     "output_type": "stream",
     "text": [
      "C:\\Users\\Hannah\\Anaconda3\\lib\\site-packages\\ipykernel_launcher.py:5: DeprecationWarning: generator 'handle_errors' raised StopIteration\n",
      "  \"\"\"\n"
     ]
    }
   ],
   "source": [
    "# List of twitter handles that Jenn Im is following\n",
    "\n",
    "JennIm=[]\n",
    "\n",
    "for user in handle_errors(tweepy.Cursor(api.friends, screen_name = 'imjennim', count=200).items()):\n",
    "    JennIm.append(str(user.screen_name))\n",
    "    \n",
    "print (JennIm)"
   ]
  },
  {
   "cell_type": "markdown",
   "metadata": {},
   "source": [
    "#### Check if Brittany Forsyth if following Jenn Im"
   ]
  },
  {
   "cell_type": "code",
   "execution_count": 38,
   "metadata": {
    "scrolled": true
   },
   "outputs": [
    {
     "data": {
      "text/plain": [
       "False"
      ]
     },
     "execution_count": 38,
     "metadata": {},
     "output_type": "execute_result"
    }
   ],
   "source": [
    "\"imjennim\" in BritForsyth"
   ]
  },
  {
   "cell_type": "markdown",
   "metadata": {},
   "source": [
    "#### Check if Jenn Im is following Brittany Forsyth"
   ]
  },
  {
   "cell_type": "code",
   "execution_count": 39,
   "metadata": {},
   "outputs": [
    {
     "data": {
      "text/plain": [
       "False"
      ]
     },
     "execution_count": 39,
     "metadata": {},
     "output_type": "execute_result"
    }
   ],
   "source": [
    "\"BritForsyth\" in JennIm"
   ]
  },
  {
   "cell_type": "markdown",
   "metadata": {},
   "source": [
    "#### List the twitter handles both accounts are following\n",
    "\n",
    "* There doesn't seem to be any suspicious connection or relationship between Brittany Forsyth and Jenn Im. "
   ]
  },
  {
   "cell_type": "code",
   "execution_count": 40,
   "metadata": {},
   "outputs": [
    {
     "data": {
      "text/plain": [
       "['RelatableQuote', 'Oprah']"
      ]
     },
     "execution_count": 40,
     "metadata": {},
     "output_type": "execute_result"
    }
   ],
   "source": [
    "# List of twitter handles both accounts are following\n",
    "returnlist = list(set(BritForsyth) & set(JennIm))\n",
    "\n",
    "returnlist"
   ]
  },
  {
   "cell_type": "markdown",
   "metadata": {},
   "source": [
    "**Check if Brittany Forsyth and Jenn Im are from the same Province/State**"
   ]
  },
  {
   "cell_type": "code",
   "execution_count": 41,
   "metadata": {},
   "outputs": [
    {
     "data": {
      "text/plain": [
       "'Ottawa, ON'"
      ]
     },
     "execution_count": 41,
     "metadata": {},
     "output_type": "execute_result"
    }
   ],
   "source": [
    "# Brittany Forsyth's location\n",
    "user = api.get_user(screen_name=\"BritForsyth\")\n",
    "user.location"
   ]
  },
  {
   "cell_type": "code",
   "execution_count": 42,
   "metadata": {},
   "outputs": [
    {
     "data": {
      "text/plain": [
       "'Los Angeles'"
      ]
     },
     "execution_count": 42,
     "metadata": {},
     "output_type": "execute_result"
    }
   ],
   "source": [
    "# Jenn Im's location\n",
    "user = api.get_user(screen_name=\"imjennim\")\n",
    "user.location"
   ]
  },
  {
   "cell_type": "markdown",
   "metadata": {},
   "source": [
    "## Conclusion:\n",
    "There doesn't seem to be any suspicious connection between Jenn Im and Brittany Forsyth.\n",
    "* They are not following each other\n",
    "* They are not following similar people\n",
    "* They are not from the same location\n",
    "\n",
    "We would repeat this process for all of the SEDI listed names against all of the investigated traders to see if there is any suspicious connection that can be found on twitter.\n",
    "\n",
    "**Note:** This process can only be done if a twitter account is correctly associated with an SEDI name or investigated trader. \n"
   ]
  },
  {
   "cell_type": "markdown",
   "metadata": {},
   "source": [
    "_____________"
   ]
  },
  {
   "cell_type": "markdown",
   "metadata": {},
   "source": [
    "______________----"
   ]
  },
  {
   "cell_type": "markdown",
   "metadata": {},
   "source": [
    "__________________--"
   ]
  },
  {
   "cell_type": "markdown",
   "metadata": {},
   "source": [
    "# PHASE 3 (Bonus)\n",
    "\n",
    "I wanted to add a Phase 3 in with thoughts on additional steps that could be taken in finding insider trading.\n",
    "Phase 1 and Phase 2 touch on **security based approach** of investigating insider trading, but there is also methodology out there for **trader based approach.**\n",
    "\n",
    "**Security based investigations** focus on data mining suspicious activities on historical events. For example, in Phase 1, we looked at historical volatility in the market due to past news releases and then investigated account's historical trading patterns surrounding that date. \n",
    "\n",
    "A **trader based approach** investigates traders who have similar trading patterns.  If a group of traders are trading the same kinds of securities at the same time, then there could be reason to believe that they are sharing insider information amongst themselves. After identifying traders who are strongly correlated in their trading patterns, we can then use similar social media tactics to prove a possible relationship."
   ]
  }
 ],
 "metadata": {
  "kernelspec": {
   "display_name": "Python 3",
   "language": "python",
   "name": "python3"
  },
  "language_info": {
   "codemirror_mode": {
    "name": "ipython",
    "version": 3
   },
   "file_extension": ".py",
   "mimetype": "text/x-python",
   "name": "python",
   "nbconvert_exporter": "python",
   "pygments_lexer": "ipython3",
   "version": "3.6.4"
  }
 },
 "nbformat": 4,
 "nbformat_minor": 2
}
