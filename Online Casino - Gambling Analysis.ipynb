{
 "cells": [
  {
   "cell_type": "markdown",
   "metadata": {},
   "source": [
    "# Gambling Analysis\n",
    "Hannah Lee\n",
    "\n",
    "### Goals\n",
    "The purpose of this analysis gain insight on the players registered to an online casino.\n",
    "We'll specifically be looking to be able to classify the players so that the casino will be able to identify their different classes of customers.\n",
    "\n",
    "The datasets were pulled from The Cambridge Health Alliance, which can be found here: http://www.thetransparencyproject.org/Availabledataset.htm\n",
    "\n",
    "\n",
    "The datasets we are provided include the demographics of each player as well as the player gambling data aggregated on each day."
   ]
  },
  {
   "cell_type": "code",
   "execution_count": 4,
   "metadata": {},
   "outputs": [],
   "source": [
    "# Libraries\n",
    "import numpy as np\n",
    "import pandas as pd\n",
    "import os as os\n",
    "from sklearn.cluster import KMeans\n",
    "from sklearn import preprocessing\n",
    "import matplotlib.pyplot as plt"
   ]
  },
  {
   "cell_type": "markdown",
   "metadata": {},
   "source": [
    "### Player Demographic Data\n",
    "\n",
    "* UserID\n",
    "* Country\n",
    "* Language\n",
    "* Gender\n",
    "* Age\n",
    "* fstpdate: Date of first game played"
   ]
  },
  {
   "cell_type": "code",
   "execution_count": 6,
   "metadata": {},
   "outputs": [
    {
     "data": {
      "text/html": [
       "<div>\n",
       "<style scoped>\n",
       "    .dataframe tbody tr th:only-of-type {\n",
       "        vertical-align: middle;\n",
       "    }\n",
       "\n",
       "    .dataframe tbody tr th {\n",
       "        vertical-align: top;\n",
       "    }\n",
       "\n",
       "    .dataframe thead th {\n",
       "        text-align: right;\n",
       "    }\n",
       "</style>\n",
       "<table border=\"1\" class=\"dataframe\">\n",
       "  <thead>\n",
       "    <tr style=\"text-align: right;\">\n",
       "      <th></th>\n",
       "      <th>UserID</th>\n",
       "      <th>Country</th>\n",
       "      <th>Language</th>\n",
       "      <th>Gender</th>\n",
       "      <th>Age</th>\n",
       "      <th>fstpdate</th>\n",
       "    </tr>\n",
       "  </thead>\n",
       "  <tbody>\n",
       "    <tr>\n",
       "      <th>0</th>\n",
       "      <td>1401233</td>\n",
       "      <td>Greece</td>\n",
       "      <td>Greek</td>\n",
       "      <td>Female</td>\n",
       "      <td>31</td>\n",
       "      <td>2/27/2005</td>\n",
       "    </tr>\n",
       "    <tr>\n",
       "      <th>1</th>\n",
       "      <td>1403738</td>\n",
       "      <td>France</td>\n",
       "      <td>French</td>\n",
       "      <td>Female</td>\n",
       "      <td>26</td>\n",
       "      <td>2/28/2005</td>\n",
       "    </tr>\n",
       "    <tr>\n",
       "      <th>2</th>\n",
       "      <td>1326398</td>\n",
       "      <td>Poland</td>\n",
       "      <td>Polish</td>\n",
       "      <td>Female</td>\n",
       "      <td>26</td>\n",
       "      <td>2/7/2005</td>\n",
       "    </tr>\n",
       "    <tr>\n",
       "      <th>3</th>\n",
       "      <td>1389454</td>\n",
       "      <td>Greece</td>\n",
       "      <td>Greek</td>\n",
       "      <td>Female</td>\n",
       "      <td>30</td>\n",
       "      <td>2/28/2005</td>\n",
       "    </tr>\n",
       "    <tr>\n",
       "      <th>4</th>\n",
       "      <td>1358966</td>\n",
       "      <td>Poland</td>\n",
       "      <td>Polish</td>\n",
       "      <td>Female</td>\n",
       "      <td>18</td>\n",
       "      <td>3/15/2005</td>\n",
       "    </tr>\n",
       "  </tbody>\n",
       "</table>\n",
       "</div>"
      ],
      "text/plain": [
       "    UserID Country Language  Gender  Age   fstpdate\n",
       "0  1401233  Greece    Greek  Female   31  2/27/2005\n",
       "1  1403738  France   French  Female   26  2/28/2005\n",
       "2  1326398  Poland   Polish  Female   26   2/7/2005\n",
       "3  1389454  Greece    Greek  Female   30  2/28/2005\n",
       "4  1358966  Poland   Polish  Female   18  3/15/2005"
      ]
     },
     "execution_count": 6,
     "metadata": {},
     "output_type": "execute_result"
    }
   ],
   "source": [
    "# Demographic data of players\n",
    "demo = pd.read_csv('Gambling_Demographics.txt', sep='\\t', header='infer')\n",
    "\n",
    "demo.head()"
   ]
  },
  {
   "cell_type": "markdown",
   "metadata": {},
   "source": [
    "#### Data investigation: Player Demographic Data\n",
    "\n",
    "From our data investigation, we found that\n",
    "* The age of the players was skewed towards the early-mid 20's\n",
    "* A majority of the players are from Germany\n",
    "* A majority of the players are Male\n"
   ]
  },
  {
   "cell_type": "code",
   "execution_count": 3,
   "metadata": {},
   "outputs": [
    {
     "data": {
      "text/plain": [
       "Text(0,0.5,'Frequency')"
      ]
     },
     "execution_count": 3,
     "metadata": {},
     "output_type": "execute_result"
    },
    {
     "data": {
      "image/png": "[encoded data removed]",
      "text/plain": [
       "<matplotlib.figure.Figure at 0x8060080>"
      ]
     },
     "metadata": {},
     "output_type": "display_data"
    }
   ],
   "source": [
    "# Investigating player base\n",
    "plt.hist(demo.Age, bins=np.arange(demo.Age.min(), demo.Age.max()+1)) \n",
    "plt.title(\"Age Distrubtion\")\n",
    "plt.xlabel(\"Age\")\n",
    "plt.ylabel(\"Frequency\")"
   ]
  },
  {
   "cell_type": "code",
   "execution_count": 4,
   "metadata": {},
   "outputs": [
    {
     "data": {
      "text/plain": [
       "([0, 1, 2, 3, 4, 5, 6, 7, 8, 9, 10, 11, 12, 13, 14, 15, 16, 17, 18, 19, 20],\n",
       " <a list of 21 Text xticklabel objects>)"
      ]
     },
     "execution_count": 4,
     "metadata": {},
     "output_type": "execute_result"
    },
    {
     "data": {
      "image/png": "[encoded data removed]",
      "text/plain": [
       "<matplotlib.figure.Figure at 0x8060160>"
      ]
     },
     "metadata": {},
     "output_type": "display_data"
    }
   ],
   "source": [
    "plt.hist(demo.Country)\n",
    "plt.title(\"Country Distribution\")\n",
    "plt.xlabel(\"Country\")\n",
    "plt.ylabel(\"Frequency\")\n",
    "plt.xticks(rotation=90)"
   ]
  },
  {
   "cell_type": "code",
   "execution_count": 5,
   "metadata": {},
   "outputs": [
    {
     "data": {
      "text/plain": [
       "Text(0,0.5,'Frequency')"
      ]
     },
     "execution_count": 5,
     "metadata": {},
     "output_type": "execute_result"
    },
    {
     "data": {
      "image/png": "[encoded data removed]",
      "text/plain": [
       "<matplotlib.figure.Figure at 0x82fc860>"
      ]
     },
     "metadata": {},
     "output_type": "display_data"
    }
   ],
   "source": [
    "plt.hist(demo.Gender)\n",
    "plt.title(\"Gender Distribution\")\n",
    "plt.xlabel(\"Gender\")\n",
    "plt.ylabel(\"Frequency\")"
   ]
  },
  {
   "cell_type": "markdown",
   "metadata": {},
   "source": [
    "### Player Gambling Data\n",
    "\n",
    "* UserID\n",
    "* TimeDATE: Date played\n",
    "* Stake: How much was bet\n",
    "* Winnings: How much was won\n",
    "* Bets: How many bets were placed"
   ]
  },
  {
   "cell_type": "code",
   "execution_count": 7,
   "metadata": {},
   "outputs": [
    {
     "data": {
      "text/html": [
       "<div>\n",
       "<style scoped>\n",
       "    .dataframe tbody tr th:only-of-type {\n",
       "        vertical-align: middle;\n",
       "    }\n",
       "\n",
       "    .dataframe tbody tr th {\n",
       "        vertical-align: top;\n",
       "    }\n",
       "\n",
       "    .dataframe thead th {\n",
       "        text-align: right;\n",
       "    }\n",
       "</style>\n",
       "<table border=\"1\" class=\"dataframe\">\n",
       "  <thead>\n",
       "    <tr style=\"text-align: right;\">\n",
       "      <th></th>\n",
       "      <th>UserID</th>\n",
       "      <th>TimeDATE</th>\n",
       "      <th>Stake</th>\n",
       "      <th>Winnings</th>\n",
       "      <th>Bets</th>\n",
       "      <th>OverallWin</th>\n",
       "      <th>Date</th>\n",
       "      <th>PlayMonth</th>\n",
       "      <th>PlayWeekday</th>\n",
       "    </tr>\n",
       "  </thead>\n",
       "  <tbody>\n",
       "    <tr>\n",
       "      <th>0</th>\n",
       "      <td>1324368</td>\n",
       "      <td>3/31/2005</td>\n",
       "      <td>58.86</td>\n",
       "      <td>49.76</td>\n",
       "      <td>8</td>\n",
       "      <td>-9.10</td>\n",
       "      <td>2005-03-31</td>\n",
       "      <td>3</td>\n",
       "      <td>Thursday</td>\n",
       "    </tr>\n",
       "    <tr>\n",
       "      <th>1</th>\n",
       "      <td>1324368</td>\n",
       "      <td>4/1/2005</td>\n",
       "      <td>16.80</td>\n",
       "      <td>26.88</td>\n",
       "      <td>3</td>\n",
       "      <td>10.08</td>\n",
       "      <td>2005-04-01</td>\n",
       "      <td>4</td>\n",
       "      <td>Friday</td>\n",
       "    </tr>\n",
       "    <tr>\n",
       "      <th>2</th>\n",
       "      <td>1324368</td>\n",
       "      <td>4/2/2005</td>\n",
       "      <td>56.75</td>\n",
       "      <td>90.75</td>\n",
       "      <td>9</td>\n",
       "      <td>34.00</td>\n",
       "      <td>2005-04-02</td>\n",
       "      <td>4</td>\n",
       "      <td>Saturday</td>\n",
       "    </tr>\n",
       "    <tr>\n",
       "      <th>3</th>\n",
       "      <td>1324368</td>\n",
       "      <td>4/3/2005</td>\n",
       "      <td>47.00</td>\n",
       "      <td>17.00</td>\n",
       "      <td>4</td>\n",
       "      <td>-30.00</td>\n",
       "      <td>2005-04-03</td>\n",
       "      <td>4</td>\n",
       "      <td>Sunday</td>\n",
       "    </tr>\n",
       "    <tr>\n",
       "      <th>4</th>\n",
       "      <td>1324368</td>\n",
       "      <td>4/5/2005</td>\n",
       "      <td>12.00</td>\n",
       "      <td>0.00</td>\n",
       "      <td>3</td>\n",
       "      <td>-12.00</td>\n",
       "      <td>2005-04-05</td>\n",
       "      <td>4</td>\n",
       "      <td>Tuesday</td>\n",
       "    </tr>\n",
       "  </tbody>\n",
       "</table>\n",
       "</div>"
      ],
      "text/plain": [
       "    UserID   TimeDATE  Stake  Winnings  Bets  OverallWin       Date  \\\n",
       "0  1324368  3/31/2005  58.86     49.76     8       -9.10 2005-03-31   \n",
       "1  1324368   4/1/2005  16.80     26.88     3       10.08 2005-04-01   \n",
       "2  1324368   4/2/2005  56.75     90.75     9       34.00 2005-04-02   \n",
       "3  1324368   4/3/2005  47.00     17.00     4      -30.00 2005-04-03   \n",
       "4  1324368   4/5/2005  12.00      0.00     3      -12.00 2005-04-05   \n",
       "\n",
       "   PlayMonth PlayWeekday  \n",
       "0          3    Thursday  \n",
       "1          4      Friday  \n",
       "2          4    Saturday  \n",
       "3          4      Sunday  \n",
       "4          4     Tuesday  "
      ]
     },
     "execution_count": 7,
     "metadata": {},
     "output_type": "execute_result"
    }
   ],
   "source": [
    "# Player Casino Winnings/Losings data\n",
    "play = pd.read_csv('Gambling_DailyAggregation.txt', sep='\\t', header='infer')\n",
    "\n",
    "# Data Prep\n",
    "play['OverallWin'] = play.Winnings-play.Stake\n",
    "\n",
    "play['Date'] = pd.to_datetime(play.TimeDATE)\n",
    "\n",
    "play['PlayMonth'] = pd.DatetimeIndex(play.Date).month\n",
    "play['PlayWeekday'] = pd.DatetimeIndex(play.Date).weekday_name\n",
    "\n",
    "play.head()"
   ]
  },
  {
   "cell_type": "markdown",
   "metadata": {},
   "source": [
    "#### Data investigation: Player Gambling Data\n",
    "\n",
    "From our data investigation, we found that\n",
    "* The player participation over time had severely decreased\n",
    "* The player participation peaked around March 2005\n",
    "* The overall winnings of early 2005 was highly volatile\n",
    "* The overall winnings before March 2005 trended positive, but then trended extremely negative during March 2005\n",
    "* People seemed to lose to most on Fridays"
   ]
  },
  {
   "cell_type": "code",
   "execution_count": 115,
   "metadata": {},
   "outputs": [
    {
     "data": {
      "image/png": "[encoded data removed]",
      "text/plain": [
       "<matplotlib.figure.Figure at 0x12e16320>"
      ]
     },
     "metadata": {},
     "output_type": "display_data"
    }
   ],
   "source": [
    "# Analyze overall winnings over time\n",
    "group_time = play.groupby('Date',as_index=False).agg({\"OverallWin\":\"sum\", \"UserID\":\"count\"})\n",
    "\n",
    "\n",
    "plt.plot(group_time.Date, group_time.OverallWin, color='#548392')\n",
    "plt.title(\"Sum of Overall Winnings Over Time\")\n",
    "plt.xlabel(\"Date\")\n",
    "plt.ylabel(\"Sum of Overall Winnings\")\n",
    "plt.locator_params\n",
    "\n",
    "\n",
    "plt.rc('figure',figsize=(20,5))"
   ]
  },
  {
   "cell_type": "code",
   "execution_count": 116,
   "metadata": {},
   "outputs": [
    {
     "data": {
      "image/png": "[encoded data removed]",
      "text/plain": [
       "<matplotlib.figure.Figure at 0x12ea38d0>"
      ]
     },
     "metadata": {},
     "output_type": "display_data"
    }
   ],
   "source": [
    "plt.plot(group_time.Date, group_time.UserID, color='#548392')\n",
    "plt.title(\"Player Participation Over Time\")\n",
    "plt.xlabel(\"Date\")\n",
    "plt.ylabel(\"Sum of Overall Winnings\")\n",
    "\n",
    "plt.rc('figure',figsize=(20,5))"
   ]
  },
  {
   "cell_type": "code",
   "execution_count": 117,
   "metadata": {
    "scrolled": true
   },
   "outputs": [
    {
     "data": {
      "text/plain": [
       "Text(0,0.5,'Sum Overall Winnings')"
      ]
     },
     "execution_count": 117,
     "metadata": {},
     "output_type": "execute_result"
    },
    {
     "data": {
      "image/png": "[encoded data removed]",
      "text/plain": [
       "<matplotlib.figure.Figure at 0x11ac46a0>"
      ]
     },
     "metadata": {},
     "output_type": "display_data"
    }
   ],
   "source": [
    "group_month = play.groupby('PlayMonth',as_index=False).agg({\"OverallWin\":\"sum\", \"UserID\":\"count\"})\n",
    "\n",
    "plt.bar(group_month.PlayMonth, group_month.OverallWin, color='#7C5E7C')\n",
    "plt.title(\"Sum of Overall Winnings for each Month\")\n",
    "plt.xlabel(\"Month\")\n",
    "plt.xticks(group_month.PlayMonth)\n",
    "plt.ylabel(\"Sum Overall Winnings\")"
   ]
  },
  {
   "cell_type": "code",
   "execution_count": 118,
   "metadata": {},
   "outputs": [
    {
     "data": {
      "text/plain": [
       "Text(0,0.5,'Sum Overall Winnings')"
      ]
     },
     "execution_count": 118,
     "metadata": {},
     "output_type": "execute_result"
    },
    {
     "data": {
      "image/png": "[encoded data removed]",
      "text/plain": [
       "<matplotlib.figure.Figure at 0x13083198>"
      ]
     },
     "metadata": {},
     "output_type": "display_data"
    }
   ],
   "source": [
    "group_day = play.groupby('PlayWeekday',as_index=False).agg({\"OverallWin\":\"sum\", \"UserID\":\"count\"})\n",
    "\n",
    "plt.bar(group_day.PlayWeekday, group_day.OverallWin, color ='#7C5E7C')\n",
    "plt.title(\"Sum of Overall Winnings for each Weekday\")\n",
    "plt.xlabel(\"Weekday\")\n",
    "plt.ylabel(\"Sum Overall Winnings\")"
   ]
  },
  {
   "cell_type": "markdown",
   "metadata": {},
   "source": [
    "### Data Prep & Modeling (K-Means)\n",
    "\n",
    "1. Group Gambling Data by UserID and find the average Stake, Winnings, Bets, and record count\n",
    "2. Join the Gambling Data with the Demographic Data on the UserID key\n",
    "3. Filter out all the non-numeric fields\n",
    "4. Feature scale (standardize) the numeric fields\n",
    "5. Apply k-means algorithm and join by index to the original joined dataset\n",
    "6. Analyze the cluster profiles"
   ]
  },
  {
   "cell_type": "code",
   "execution_count": 26,
   "metadata": {},
   "outputs": [
    {
     "data": {
      "text/html": [
       "<div>\n",
       "<style scoped>\n",
       "    .dataframe tbody tr th:only-of-type {\n",
       "        vertical-align: middle;\n",
       "    }\n",
       "\n",
       "    .dataframe tbody tr th {\n",
       "        vertical-align: top;\n",
       "    }\n",
       "\n",
       "    .dataframe thead th {\n",
       "        text-align: right;\n",
       "    }\n",
       "</style>\n",
       "<table border=\"1\" class=\"dataframe\">\n",
       "  <thead>\n",
       "    <tr style=\"text-align: right;\">\n",
       "      <th></th>\n",
       "      <th>UserID</th>\n",
       "      <th>Avg_Stake</th>\n",
       "      <th>Avg_Winnings</th>\n",
       "      <th>Avg_Bets</th>\n",
       "      <th>Play_Count</th>\n",
       "    </tr>\n",
       "  </thead>\n",
       "  <tbody>\n",
       "    <tr>\n",
       "      <th>0</th>\n",
       "      <td>1324368</td>\n",
       "      <td>90.278800</td>\n",
       "      <td>104.458000</td>\n",
       "      <td>6.160000</td>\n",
       "      <td>25</td>\n",
       "    </tr>\n",
       "    <tr>\n",
       "      <th>1</th>\n",
       "      <td>1324786</td>\n",
       "      <td>31.528462</td>\n",
       "      <td>24.907692</td>\n",
       "      <td>3.000000</td>\n",
       "      <td>13</td>\n",
       "    </tr>\n",
       "    <tr>\n",
       "      <th>2</th>\n",
       "      <td>1324808</td>\n",
       "      <td>5.920786</td>\n",
       "      <td>6.632714</td>\n",
       "      <td>4.285714</td>\n",
       "      <td>7</td>\n",
       "    </tr>\n",
       "    <tr>\n",
       "      <th>3</th>\n",
       "      <td>1324866</td>\n",
       "      <td>22.847222</td>\n",
       "      <td>25.884456</td>\n",
       "      <td>2.000000</td>\n",
       "      <td>9</td>\n",
       "    </tr>\n",
       "    <tr>\n",
       "      <th>4</th>\n",
       "      <td>1325158</td>\n",
       "      <td>47.975000</td>\n",
       "      <td>47.429167</td>\n",
       "      <td>7.083333</td>\n",
       "      <td>12</td>\n",
       "    </tr>\n",
       "  </tbody>\n",
       "</table>\n",
       "</div>"
      ],
      "text/plain": [
       "    UserID  Avg_Stake  Avg_Winnings  Avg_Bets  Play_Count\n",
       "0  1324368  90.278800    104.458000  6.160000          25\n",
       "1  1324786  31.528462     24.907692  3.000000          13\n",
       "2  1324808   5.920786      6.632714  4.285714           7\n",
       "3  1324866  22.847222     25.884456  2.000000           9\n",
       "4  1325158  47.975000     47.429167  7.083333          12"
      ]
     },
     "execution_count": 26,
     "metadata": {},
     "output_type": "execute_result"
    }
   ],
   "source": [
    "# Group by User ID\n",
    "grouped = play.groupby('UserID',as_index=False).agg({\"Stake\":\"mean\",\n",
    "                             \"Winnings\":\"mean\",\n",
    "                             \"Bets\": \"mean\",\n",
    "                             \"TimeDATE\": \"count\"})\n",
    "\n",
    "grouped = grouped.rename(columns={\"Stake\":\"Avg_Stake\",\n",
    "                             \"Winnings\":\"Avg_Winnings\",\n",
    "                             \"Bets\": \"Avg_Bets\",\n",
    "                             \"TimeDATE\": \"Play_Count\"})\n",
    "\n",
    "grouped.head()"
   ]
  },
  {
   "cell_type": "code",
   "execution_count": 32,
   "metadata": {},
   "outputs": [
    {
     "data": {
      "text/html": [
       "<div>\n",
       "<style scoped>\n",
       "    .dataframe tbody tr th:only-of-type {\n",
       "        vertical-align: middle;\n",
       "    }\n",
       "\n",
       "    .dataframe tbody tr th {\n",
       "        vertical-align: top;\n",
       "    }\n",
       "\n",
       "    .dataframe thead th {\n",
       "        text-align: right;\n",
       "    }\n",
       "</style>\n",
       "<table border=\"1\" class=\"dataframe\">\n",
       "  <thead>\n",
       "    <tr style=\"text-align: right;\">\n",
       "      <th></th>\n",
       "      <th>UserID</th>\n",
       "      <th>Avg_Stake</th>\n",
       "      <th>Avg_Winnings</th>\n",
       "      <th>Avg_Bets</th>\n",
       "      <th>Play_Count</th>\n",
       "      <th>Country</th>\n",
       "      <th>Language</th>\n",
       "      <th>Gender</th>\n",
       "      <th>Age</th>\n",
       "      <th>fstpdate</th>\n",
       "    </tr>\n",
       "  </thead>\n",
       "  <tbody>\n",
       "    <tr>\n",
       "      <th>0</th>\n",
       "      <td>1324368</td>\n",
       "      <td>90.278800</td>\n",
       "      <td>104.458000</td>\n",
       "      <td>6.160000</td>\n",
       "      <td>25</td>\n",
       "      <td>Portugal</td>\n",
       "      <td>Portuguese</td>\n",
       "      <td>Male</td>\n",
       "      <td>21</td>\n",
       "      <td>3/18/2005</td>\n",
       "    </tr>\n",
       "    <tr>\n",
       "      <th>1</th>\n",
       "      <td>1324786</td>\n",
       "      <td>31.528462</td>\n",
       "      <td>24.907692</td>\n",
       "      <td>3.000000</td>\n",
       "      <td>13</td>\n",
       "      <td>Austria</td>\n",
       "      <td>German</td>\n",
       "      <td>Male</td>\n",
       "      <td>19</td>\n",
       "      <td>8/6/2005</td>\n",
       "    </tr>\n",
       "    <tr>\n",
       "      <th>2</th>\n",
       "      <td>1324808</td>\n",
       "      <td>5.920786</td>\n",
       "      <td>6.632714</td>\n",
       "      <td>4.285714</td>\n",
       "      <td>7</td>\n",
       "      <td>Poland</td>\n",
       "      <td>Polish</td>\n",
       "      <td>Male</td>\n",
       "      <td>20</td>\n",
       "      <td>2/11/2005</td>\n",
       "    </tr>\n",
       "    <tr>\n",
       "      <th>3</th>\n",
       "      <td>1324866</td>\n",
       "      <td>22.847222</td>\n",
       "      <td>25.884456</td>\n",
       "      <td>2.000000</td>\n",
       "      <td>9</td>\n",
       "      <td>Poland</td>\n",
       "      <td>Polish</td>\n",
       "      <td>Male</td>\n",
       "      <td>38</td>\n",
       "      <td>2/3/2005</td>\n",
       "    </tr>\n",
       "    <tr>\n",
       "      <th>4</th>\n",
       "      <td>1325158</td>\n",
       "      <td>47.975000</td>\n",
       "      <td>47.429167</td>\n",
       "      <td>7.083333</td>\n",
       "      <td>12</td>\n",
       "      <td>Spain</td>\n",
       "      <td>Spanish</td>\n",
       "      <td>Male</td>\n",
       "      <td>26</td>\n",
       "      <td>2/1/2005</td>\n",
       "    </tr>\n",
       "  </tbody>\n",
       "</table>\n",
       "</div>"
      ],
      "text/plain": [
       "    UserID  Avg_Stake  Avg_Winnings  Avg_Bets  Play_Count   Country  \\\n",
       "0  1324368  90.278800    104.458000  6.160000          25  Portugal   \n",
       "1  1324786  31.528462     24.907692  3.000000          13   Austria   \n",
       "2  1324808   5.920786      6.632714  4.285714           7    Poland   \n",
       "3  1324866  22.847222     25.884456  2.000000           9    Poland   \n",
       "4  1325158  47.975000     47.429167  7.083333          12     Spain   \n",
       "\n",
       "     Language Gender  Age   fstpdate  \n",
       "0  Portuguese   Male   21  3/18/2005  \n",
       "1      German   Male   19   8/6/2005  \n",
       "2      Polish   Male   20  2/11/2005  \n",
       "3      Polish   Male   38   2/3/2005  \n",
       "4     Spanish   Male   26   2/1/2005  "
      ]
     },
     "execution_count": 32,
     "metadata": {},
     "output_type": "execute_result"
    }
   ],
   "source": [
    "# Join Playing data with Demographic data\n",
    "\n",
    "full= grouped.join(demo.set_index('UserID'), on='UserID')\n",
    "\n",
    "full.head()"
   ]
  },
  {
   "cell_type": "code",
   "execution_count": 33,
   "metadata": {
    "scrolled": true
   },
   "outputs": [
    {
     "data": {
      "text/html": [
       "<div>\n",
       "<style scoped>\n",
       "    .dataframe tbody tr th:only-of-type {\n",
       "        vertical-align: middle;\n",
       "    }\n",
       "\n",
       "    .dataframe tbody tr th {\n",
       "        vertical-align: top;\n",
       "    }\n",
       "\n",
       "    .dataframe thead th {\n",
       "        text-align: right;\n",
       "    }\n",
       "</style>\n",
       "<table border=\"1\" class=\"dataframe\">\n",
       "  <thead>\n",
       "    <tr style=\"text-align: right;\">\n",
       "      <th></th>\n",
       "      <th>UserID</th>\n",
       "      <th>Avg_Stake</th>\n",
       "      <th>Avg_Winnings</th>\n",
       "      <th>Avg_Bets</th>\n",
       "      <th>Play_Count</th>\n",
       "      <th>Country</th>\n",
       "      <th>Language</th>\n",
       "      <th>Gender</th>\n",
       "      <th>Age</th>\n",
       "      <th>fstpdate</th>\n",
       "      <th>Cluster</th>\n",
       "    </tr>\n",
       "  </thead>\n",
       "  <tbody>\n",
       "    <tr>\n",
       "      <th>0</th>\n",
       "      <td>1324368</td>\n",
       "      <td>90.278800</td>\n",
       "      <td>104.458000</td>\n",
       "      <td>6.160000</td>\n",
       "      <td>25</td>\n",
       "      <td>Portugal</td>\n",
       "      <td>Portuguese</td>\n",
       "      <td>Male</td>\n",
       "      <td>21</td>\n",
       "      <td>3/18/2005</td>\n",
       "      <td>0</td>\n",
       "    </tr>\n",
       "    <tr>\n",
       "      <th>1</th>\n",
       "      <td>1324786</td>\n",
       "      <td>31.528462</td>\n",
       "      <td>24.907692</td>\n",
       "      <td>3.000000</td>\n",
       "      <td>13</td>\n",
       "      <td>Austria</td>\n",
       "      <td>German</td>\n",
       "      <td>Male</td>\n",
       "      <td>19</td>\n",
       "      <td>8/6/2005</td>\n",
       "      <td>1</td>\n",
       "    </tr>\n",
       "    <tr>\n",
       "      <th>2</th>\n",
       "      <td>1324808</td>\n",
       "      <td>5.920786</td>\n",
       "      <td>6.632714</td>\n",
       "      <td>4.285714</td>\n",
       "      <td>7</td>\n",
       "      <td>Poland</td>\n",
       "      <td>Polish</td>\n",
       "      <td>Male</td>\n",
       "      <td>20</td>\n",
       "      <td>2/11/2005</td>\n",
       "      <td>1</td>\n",
       "    </tr>\n",
       "    <tr>\n",
       "      <th>3</th>\n",
       "      <td>1324866</td>\n",
       "      <td>22.847222</td>\n",
       "      <td>25.884456</td>\n",
       "      <td>2.000000</td>\n",
       "      <td>9</td>\n",
       "      <td>Poland</td>\n",
       "      <td>Polish</td>\n",
       "      <td>Male</td>\n",
       "      <td>38</td>\n",
       "      <td>2/3/2005</td>\n",
       "      <td>3</td>\n",
       "    </tr>\n",
       "    <tr>\n",
       "      <th>4</th>\n",
       "      <td>1325158</td>\n",
       "      <td>47.975000</td>\n",
       "      <td>47.429167</td>\n",
       "      <td>7.083333</td>\n",
       "      <td>12</td>\n",
       "      <td>Spain</td>\n",
       "      <td>Spanish</td>\n",
       "      <td>Male</td>\n",
       "      <td>26</td>\n",
       "      <td>2/1/2005</td>\n",
       "      <td>1</td>\n",
       "    </tr>\n",
       "  </tbody>\n",
       "</table>\n",
       "</div>"
      ],
      "text/plain": [
       "    UserID  Avg_Stake  Avg_Winnings  Avg_Bets  Play_Count   Country  \\\n",
       "0  1324368  90.278800    104.458000  6.160000          25  Portugal   \n",
       "1  1324786  31.528462     24.907692  3.000000          13   Austria   \n",
       "2  1324808   5.920786      6.632714  4.285714           7    Poland   \n",
       "3  1324866  22.847222     25.884456  2.000000           9    Poland   \n",
       "4  1325158  47.975000     47.429167  7.083333          12     Spain   \n",
       "\n",
       "     Language Gender  Age   fstpdate  Cluster  \n",
       "0  Portuguese   Male   21  3/18/2005        0  \n",
       "1      German   Male   19   8/6/2005        1  \n",
       "2      Polish   Male   20  2/11/2005        1  \n",
       "3      Polish   Male   38   2/3/2005        3  \n",
       "4     Spanish   Male   26   2/1/2005        1  "
      ]
     },
     "execution_count": 33,
     "metadata": {},
     "output_type": "execute_result"
    }
   ],
   "source": [
    "# Feature scale\n",
    "scale_full = full.drop(['UserID','fstpdate','Gender','Country','Language'],1)\n",
    "scale_full = pd.DataFrame( preprocessing.scale(scale_full))\n",
    "\n",
    "# k means\n",
    "km = KMeans(n_clusters=4,random_state=0)\n",
    "\n",
    "km.fit(scale_full)\n",
    "Cluster = pd.DataFrame(km.predict(scale_full))\n",
    "Cluster = Cluster.rename(columns={0:\"Cluster\"})\n",
    "\n",
    "full = full.join(Cluster)\n",
    "\n",
    "full.head()"
   ]
  },
  {
   "cell_type": "markdown",
   "metadata": {},
   "source": [
    "### Cluster Profile Analysis: Summary\n",
    "\n",
    "* There doesn't seem to be an interesting Country distrubition within each cluster\n",
    "\n",
    "**Cluster 0**\n",
    "* Medium stakes and winnings\n",
    "* Places a high number of bets on average\n",
    "* Plays frequently \n",
    "* Younger demographic (Mid 20's)\n",
    "\n",
    "**Cluster 1**\n",
    "* The most frequently classified cluster group\n",
    "* Low stakes and winnings\n",
    "* Places a low number of bets on average\n",
    "* Doesn't play very frequently\n",
    "* Younger demographic (Mid 20's)\n",
    "\n",
    "**Cluster 2**\n",
    "* The least frequently classified cluster group\n",
    "* Extremely high stakes and winnings\n",
    "* Places a large number of bets on average\n",
    "* Plays frequently \n",
    "* Consists of all Males\n",
    "\n",
    "**Cluster 3**\n",
    "* Low stakes and winnings\n",
    "* Places a low number of bets on average\n",
    "* Older demographic (Early 40's)\n",
    "* There seems to be proportionally higher female frequency in Cluster 3\n"
   ]
  },
  {
   "cell_type": "code",
   "execution_count": 35,
   "metadata": {
    "scrolled": true
   },
   "outputs": [
    {
     "data": {
      "text/html": [
       "<div>\n",
       "<style scoped>\n",
       "    .dataframe tbody tr th:only-of-type {\n",
       "        vertical-align: middle;\n",
       "    }\n",
       "\n",
       "    .dataframe tbody tr th {\n",
       "        vertical-align: top;\n",
       "    }\n",
       "\n",
       "    .dataframe thead th {\n",
       "        text-align: right;\n",
       "    }\n",
       "</style>\n",
       "<table border=\"1\" class=\"dataframe\">\n",
       "  <thead>\n",
       "    <tr style=\"text-align: right;\">\n",
       "      <th></th>\n",
       "      <th>Cluster</th>\n",
       "      <th>Avg_Stake</th>\n",
       "      <th>Avg_Winnings</th>\n",
       "      <th>Avg_Bets</th>\n",
       "      <th>Play_Count</th>\n",
       "      <th>Avg_Age</th>\n",
       "      <th>Count</th>\n",
       "    </tr>\n",
       "  </thead>\n",
       "  <tbody>\n",
       "    <tr>\n",
       "      <th>0</th>\n",
       "      <td>0</td>\n",
       "      <td>132.502710</td>\n",
       "      <td>123.224035</td>\n",
       "      <td>15.472981</td>\n",
       "      <td>16.990000</td>\n",
       "      <td>27.840000</td>\n",
       "      <td>100</td>\n",
       "    </tr>\n",
       "    <tr>\n",
       "      <th>1</th>\n",
       "      <td>1</td>\n",
       "      <td>26.709210</td>\n",
       "      <td>22.362199</td>\n",
       "      <td>4.268674</td>\n",
       "      <td>6.574675</td>\n",
       "      <td>24.103896</td>\n",
       "      <td>308</td>\n",
       "    </tr>\n",
       "    <tr>\n",
       "      <th>2</th>\n",
       "      <td>2</td>\n",
       "      <td>781.689266</td>\n",
       "      <td>775.835178</td>\n",
       "      <td>13.015218</td>\n",
       "      <td>19.153846</td>\n",
       "      <td>31.076923</td>\n",
       "      <td>13</td>\n",
       "    </tr>\n",
       "    <tr>\n",
       "      <th>3</th>\n",
       "      <td>3</td>\n",
       "      <td>34.928549</td>\n",
       "      <td>28.795161</td>\n",
       "      <td>4.682401</td>\n",
       "      <td>10.899083</td>\n",
       "      <td>40.834862</td>\n",
       "      <td>109</td>\n",
       "    </tr>\n",
       "  </tbody>\n",
       "</table>\n",
       "</div>"
      ],
      "text/plain": [
       "   Cluster   Avg_Stake  Avg_Winnings   Avg_Bets  Play_Count    Avg_Age  Count\n",
       "0        0  132.502710    123.224035  15.472981   16.990000  27.840000    100\n",
       "1        1   26.709210     22.362199   4.268674    6.574675  24.103896    308\n",
       "2        2  781.689266    775.835178  13.015218   19.153846  31.076923     13\n",
       "3        3   34.928549     28.795161   4.682401   10.899083  40.834862    109"
      ]
     },
     "execution_count": 35,
     "metadata": {},
     "output_type": "execute_result"
    }
   ],
   "source": [
    "full_grouped = full.groupby('Cluster',as_index=False).agg({\"Avg_Stake\":\"mean\",\n",
    "                             \"Avg_Winnings\":\"mean\",\n",
    "                             \"Avg_Bets\": \"mean\",\n",
    "                             \"Play_Count\": \"mean\",\n",
    "                             \"Age\": \"mean\",\n",
    "                             \"fstpdate\":\"count\"})\n",
    "\n",
    "full_grouped = full_grouped.rename(columns={\"Play Count\":\"Play_Count Avg\",\"Age\":\"Avg_Age\", \"fstpdate\":\"Count\"})\n",
    "\n",
    "full_grouped"
   ]
  },
  {
   "cell_type": "code",
   "execution_count": 83,
   "metadata": {},
   "outputs": [],
   "source": [
    "#Analyze Cluster Profiles individually\n",
    "\n",
    "full['OverallWin']=full.Avg_Stake-full.Avg_Winnings\n",
    "\n",
    "cl0 =full[full.Cluster==0]\n",
    "\n",
    "cl1 =full[full.Cluster==1]\n",
    "\n",
    "cl2 =full[full.Cluster==2]\n",
    "\n",
    "cl3 =full[full.Cluster==3]"
   ]
  },
  {
   "cell_type": "code",
   "execution_count": 102,
   "metadata": {},
   "outputs": [
    {
     "data": {
      "text/plain": [
       "Text(0,0.5,'Frequency')"
      ]
     },
     "execution_count": 102,
     "metadata": {},
     "output_type": "execute_result"
    },
    {
     "data": {
      "image/png": "[encoded data removed]",
      "text/plain": [
       "<matplotlib.figure.Figure at 0x11ad2358>"
      ]
     },
     "metadata": {},
     "output_type": "display_data"
    }
   ],
   "source": [
    "plt.hist(cl0.Age, color ='#FC6A4B')\n",
    "plt.title(\"Cluster 0 Age Distribution\")\n",
    "plt.xlabel(\"Age\")\n",
    "plt.ylabel(\"Frequency\")"
   ]
  },
  {
   "cell_type": "code",
   "execution_count": 103,
   "metadata": {
    "scrolled": true
   },
   "outputs": [
    {
     "data": {
      "text/plain": [
       "Text(0,0.5,'Frequency')"
      ]
     },
     "execution_count": 103,
     "metadata": {},
     "output_type": "execute_result"
    },
    {
     "data": {
      "image/png": "[encoded data removed]",
      "text/plain": [
       "<matplotlib.figure.Figure at 0x11b36518>"
      ]
     },
     "metadata": {},
     "output_type": "display_data"
    }
   ],
   "source": [
    "plt.hist(cl1.Age, color='#F3D218')\n",
    "plt.title(\"Cluster 1 Age Distribution\")\n",
    "plt.xlabel(\"Age\")\n",
    "plt.ylabel(\"Frequency\")"
   ]
  },
  {
   "cell_type": "code",
   "execution_count": 105,
   "metadata": {
    "scrolled": true
   },
   "outputs": [
    {
     "data": {
      "text/plain": [
       "Text(0,0.5,'Frequency')"
      ]
     },
     "execution_count": 105,
     "metadata": {},
     "output_type": "execute_result"
    },
    {
     "data": {
      "image/png": "[encoded data removed]",
      "text/plain": [
       "<matplotlib.figure.Figure at 0x11c11a20>"
      ]
     },
     "metadata": {},
     "output_type": "display_data"
    }
   ],
   "source": [
    "plt.hist(cl2.Age, color='#18DF66')\n",
    "plt.title(\"Cluster 2 Age Distribution\")\n",
    "plt.xlabel(\"Age\")\n",
    "plt.ylabel(\"Frequency\")"
   ]
  },
  {
   "cell_type": "code",
   "execution_count": 106,
   "metadata": {
    "scrolled": false
   },
   "outputs": [
    {
     "data": {
      "text/plain": [
       "Text(0,0.5,'Frequency')"
      ]
     },
     "execution_count": 106,
     "metadata": {},
     "output_type": "execute_result"
    },
    {
     "data": {
      "image/png": "[encoded data removed]",
      "text/plain": [
       "<matplotlib.figure.Figure at 0x11cd4940>"
      ]
     },
     "metadata": {},
     "output_type": "display_data"
    }
   ],
   "source": [
    "plt.hist(cl3.Age, color='#1EB6E7')\n",
    "plt.title(\"Cluster 3 Age Distribution\")\n",
    "plt.xlabel(\"Age\")\n",
    "plt.ylabel(\"Frequency\")"
   ]
  },
  {
   "cell_type": "code",
   "execution_count": 109,
   "metadata": {
    "scrolled": true
   },
   "outputs": [
    {
     "data": {
      "text/plain": [
       "Text(0,0.5,'Frequency')"
      ]
     },
     "execution_count": 109,
     "metadata": {},
     "output_type": "execute_result"
    },
    {
     "data": {
      "image/png": "[encoded data removed]",
      "text/plain": [
       "<matplotlib.figure.Figure at 0x12de7b38>"
      ]
     },
     "metadata": {},
     "output_type": "display_data"
    }
   ],
   "source": [
    "plt.hist(cl0.Avg_Bets, color ='#FC6A4B')\n",
    "plt.title(\"Cluster 0 Bets Distribution\")\n",
    "plt.xlabel(\"Bets\")\n",
    "plt.ylabel(\"Frequency\")"
   ]
  },
  {
   "cell_type": "code",
   "execution_count": 111,
   "metadata": {
    "scrolled": true
   },
   "outputs": [
    {
     "data": {
      "text/plain": [
       "Text(0,0.5,'Frequency')"
      ]
     },
     "execution_count": 111,
     "metadata": {},
     "output_type": "execute_result"
    },
    {
     "data": {
      "image/png": "[encoded data removed]",
      "text/plain": [
       "<matplotlib.figure.Figure at 0x11660240>"
      ]
     },
     "metadata": {},
     "output_type": "display_data"
    }
   ],
   "source": [
    "plt.hist(cl1.Avg_Bets, color='#F3D218')\n",
    "plt.title(\"Cluster 1 Bets Distribution\")\n",
    "plt.xlabel(\"Bets\")\n",
    "plt.ylabel(\"Frequency\")"
   ]
  },
  {
   "cell_type": "code",
   "execution_count": 113,
   "metadata": {
    "scrolled": true
   },
   "outputs": [
    {
     "data": {
      "text/plain": [
       "Text(0,0.5,'Frequency')"
      ]
     },
     "execution_count": 113,
     "metadata": {},
     "output_type": "execute_result"
    },
    {
     "data": {
      "image/png": "[encoded data removed]",
      "text/plain": [
       "<matplotlib.figure.Figure at 0x11682160>"
      ]
     },
     "metadata": {},
     "output_type": "display_data"
    }
   ],
   "source": [
    "plt.hist(cl2.Avg_Bets, color='#18DF66')\n",
    "plt.title(\"Cluster 2 Bets Distribution\")\n",
    "plt.xlabel(\"Bets\")\n",
    "plt.ylabel(\"Frequency\")"
   ]
  },
  {
   "cell_type": "code",
   "execution_count": 107,
   "metadata": {
    "scrolled": true
   },
   "outputs": [
    {
     "data": {
      "text/plain": [
       "Text(0,0.5,'Frequency')"
      ]
     },
     "execution_count": 107,
     "metadata": {},
     "output_type": "execute_result"
    },
    {
     "data": {
      "image/png": "[encoded data removed]",
      "text/plain": [
       "<matplotlib.figure.Figure at 0x12d136d8>"
      ]
     },
     "metadata": {},
     "output_type": "display_data"
    }
   ],
   "source": [
    "plt.hist(cl3.Avg_Bets,color='#1EB6E7')\n",
    "plt.title(\"Cluster 3 Bets Distribution\")\n",
    "plt.xlabel(\"Bets\")\n",
    "plt.ylabel(\"Frequency\")"
   ]
  },
  {
   "cell_type": "code",
   "execution_count": 110,
   "metadata": {
    "scrolled": true
   },
   "outputs": [
    {
     "data": {
      "text/plain": [
       "([0, 1], <a list of 2 Text xticklabel objects>)"
      ]
     },
     "execution_count": 110,
     "metadata": {},
     "output_type": "execute_result"
    },
    {
     "data": {
      "image/png": "[encoded data removed]",
      "text/plain": [
       "<matplotlib.figure.Figure at 0x1189e780>"
      ]
     },
     "metadata": {},
     "output_type": "display_data"
    }
   ],
   "source": [
    "plt.hist(cl0.Gender, color ='#FC6A4B')\n",
    "plt.title(\"Cluster 0 Gender Distribution\")\n",
    "plt.xlabel(\"Gender\")\n",
    "plt.ylabel(\"Frequency\")\n",
    "plt.xticks(rotation=90)"
   ]
  },
  {
   "cell_type": "code",
   "execution_count": 112,
   "metadata": {
    "scrolled": true
   },
   "outputs": [
    {
     "data": {
      "text/plain": [
       "([0, 1], <a list of 2 Text xticklabel objects>)"
      ]
     },
     "execution_count": 112,
     "metadata": {},
     "output_type": "execute_result"
    },
    {
     "data": {
      "image/png": "[encoded data removed]",
      "text/plain": [
       "<matplotlib.figure.Figure at 0x115e53c8>"
      ]
     },
     "metadata": {},
     "output_type": "display_data"
    }
   ],
   "source": [
    "plt.hist(cl1.Gender, color='#F3D218')\n",
    "plt.title(\"Cluster 1 Gender Distribution\")\n",
    "plt.xlabel(\"Gender\")\n",
    "plt.ylabel(\"Frequency\")\n",
    "plt.xticks(rotation=90)"
   ]
  },
  {
   "cell_type": "code",
   "execution_count": 114,
   "metadata": {
    "scrolled": true
   },
   "outputs": [
    {
     "data": {
      "text/plain": [
       "([0], <a list of 1 Text xticklabel objects>)"
      ]
     },
     "execution_count": 114,
     "metadata": {},
     "output_type": "execute_result"
    },
    {
     "data": {
      "image/png": "[encoded data removed]",
      "text/plain": [
       "<matplotlib.figure.Figure at 0x12ea3390>"
      ]
     },
     "metadata": {},
     "output_type": "display_data"
    }
   ],
   "source": [
    "plt.hist(cl2.Gender, color='#18DF66')\n",
    "plt.title(\"Cluster 2 Gender Distribution\")\n",
    "plt.xlabel(\"Gender\")\n",
    "plt.ylabel(\"Frequency\")\n",
    "plt.xticks(rotation=90)"
   ]
  },
  {
   "cell_type": "code",
   "execution_count": 108,
   "metadata": {
    "scrolled": false
   },
   "outputs": [
    {
     "data": {
      "text/plain": [
       "([0, 1], <a list of 2 Text xticklabel objects>)"
      ]
     },
     "execution_count": 108,
     "metadata": {},
     "output_type": "execute_result"
    },
    {
     "data": {
      "image/png": "[encoded data removed]",
      "text/plain": [
       "<matplotlib.figure.Figure at 0x12d330f0>"
      ]
     },
     "metadata": {},
     "output_type": "display_data"
    }
   ],
   "source": [
    "plt.hist(cl3.Gender, color='#1EB6E7')\n",
    "plt.title(\"Cluster 3 Gender Distribution\")\n",
    "plt.xlabel(\"Gender\")\n",
    "plt.ylabel(\"Frequency\")\n",
    "plt.xticks(rotation=90)"
   ]
  }
 ],
 "metadata": {
  "kernelspec": {
   "display_name": "Python 3",
   "language": "python",
   "name": "python3"
  },
  "language_info": {
   "codemirror_mode": {
    "name": "ipython",
    "version": 3
   },
   "file_extension": ".py",
   "mimetype": "text/x-python",
   "name": "python",
   "nbconvert_exporter": "python",
   "pygments_lexer": "ipython3",
   "version": "3.6.4"
  },
  "widgets": {
   "application/vnd.jupyter.widget-state+json": {
    "state": {},
    "version_major": 2,
    "version_minor": 0
   }
  }
 },
 "nbformat": 4,
 "nbformat_minor": 2
}
